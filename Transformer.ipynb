{
 "cells": [
  {
   "cell_type": "code",
   "execution_count": 1,
   "id": "65068a39",
   "metadata": {},
   "outputs": [],
   "source": [
    "import numpy as np \n",
    "import math \n"
   ]
  },
  {
   "cell_type": "code",
   "execution_count": 2,
   "id": "a370e835",
   "metadata": {},
   "outputs": [],
   "source": [
    "L ,d_k,d_v = 4,8,8 # l is length of string and remaining are size of vector \n",
    "\n",
    "q = np.random.randn(L,d_k)\n",
    "k = np.random.randn(L, d_k)\n",
    "v = np.random.randn(L, d_v)"
   ]
  },
  {
   "cell_type": "code",
   "execution_count": 4,
   "id": "5f996da3",
   "metadata": {},
   "outputs": [
    {
     "name": "stdout",
     "output_type": "stream",
     "text": [
      "Q/n [[ 0.53161534 -0.22620406  2.10158675  0.50188402 -1.49293697 -1.07540993\n",
      "  -0.87362415 -0.73073885]\n",
      " [ 1.08555749 -0.026796    0.90432206 -1.95003382 -0.21505218  0.68882492\n",
      "  -2.2556809  -0.12546243]\n",
      " [ 0.09250036  0.62715539  0.88059194  1.35546426 -0.05395573  1.36136243\n",
      "  -1.48462822 -0.4265716 ]\n",
      " [ 1.5650115  -0.76646258 -1.16845001  0.34606661 -0.43394211 -0.12283913\n",
      "  -1.25463917 -0.56835584]]\n",
      "K/n [[ 0.68967714 -1.1658721   1.50248528 -0.42381314 -0.30897694  1.29271269\n",
      "  -0.62340311  0.03234841]\n",
      " [-0.70223959 -1.21623216 -0.13409072 -0.40348911 -2.78475386 -1.81705924\n",
      "   0.83175717 -1.75033326]\n",
      " [-0.26520535  0.84069786  0.83386477 -0.62519713  2.31025203 -2.34950128\n",
      "   1.05647648  0.88372616]\n",
      " [ 1.25044627 -0.54289016 -0.26477858 -2.28898029 -2.18218495 -1.38528885\n",
      "   0.29828505  0.33359092]]\n",
      "V/n [[ 1.2774639  -2.33146453 -1.11543781 -0.32332304 -0.26257471  0.00605517\n",
      "   0.6398752  -0.38088931]\n",
      " [-2.32150319  0.07987951  0.72348679  1.07949818 -0.21209346 -0.40438017\n",
      "   0.46405653 -0.74165886]\n",
      " [-0.01117921  0.04191701 -0.23382914 -0.14178906 -1.62149424  1.4954308\n",
      "   1.1354223  -1.18057801]\n",
      " [ 1.54983993 -1.74035785  0.39837836 -0.66736322  0.22505414  0.42289261\n",
      "   0.03616847 -1.18234671]]\n"
     ]
    }
   ],
   "source": [
    "print(\"Q/n\",q)\n",
    "print(\"K/n\",k)\n",
    "print(\"V/n\",v)"
   ]
  },
  {
   "attachments": {
    "image.png": {
     "image/png": "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"
    }
   },
   "cell_type": "markdown",
   "id": "fa2b586d",
   "metadata": {},
   "source": [
    "## self attention formula\n",
    "![image.png](attachment:image.png)"
   ]
  },
  {
   "cell_type": "code",
   "execution_count": 6,
   "id": "6dac181e",
   "metadata": {},
   "outputs": [
    {
     "data": {
      "text/plain": [
       "array([[ 3.16733486,  6.08142618, -1.38361384,  3.32556368],\n",
       "       [ 5.32414428, -2.37352107, -2.94635312,  4.3964956 ],\n",
       "       [ 2.76946978, -4.30434872, -4.87904255, -5.91388423],\n",
       "       [ 0.80974644,  1.23311255, -4.79177467,  2.44357983]])"
      ]
     },
     "execution_count": 6,
     "metadata": {},
     "output_type": "execute_result"
    }
   ],
   "source": [
    "np.matmul(q,k.T) # here it showing how much attention it is going to shwo to each vector like in first it is 2nd (6)"
   ]
  },
  {
   "cell_type": "code",
   "execution_count": 7,
   "id": "83960b32",
   "metadata": {},
   "outputs": [],
   "source": [
    " # we divide it by d_k to minize the variance "
   ]
  },
  {
   "cell_type": "code",
   "execution_count": 8,
   "id": "a943c5a4",
   "metadata": {},
   "outputs": [
    {
     "data": {
      "text/plain": [
       "(1.0833217260358294, 1.5464086140772064, 14.844857669339213)"
      ]
     },
     "execution_count": 8,
     "metadata": {},
     "output_type": "execute_result"
    }
   ],
   "source": [
    "q.var(),k.var(),np.matmul(q,k.T).var()"
   ]
  },
  {
   "cell_type": "code",
   "execution_count": 9,
   "id": "be56d8cd",
   "metadata": {},
   "outputs": [],
   "source": [
    "scaled = np.matmul(q,k.T)/math.sqrt(d_k)"
   ]
  },
  {
   "cell_type": "code",
   "execution_count": 10,
   "id": "8c4b01b3",
   "metadata": {},
   "outputs": [
    {
     "data": {
      "text/plain": [
       "1.8556072086674014"
      ]
     },
     "execution_count": 10,
     "metadata": {},
     "output_type": "execute_result"
    }
   ],
   "source": [
    "scaled.var()"
   ]
  },
  {
   "cell_type": "code",
   "execution_count": 11,
   "id": "a42990db",
   "metadata": {},
   "outputs": [
    {
     "data": {
      "text/plain": [
       "array([[ 1.11982198,  2.15010885, -0.48918136,  1.17576432],\n",
       "       [ 1.88236926, -0.83916642, -1.04169314,  1.55439593],\n",
       "       [ 0.97915543, -1.52181708, -1.72500203, -2.09087382],\n",
       "       [ 0.2862886 ,  0.43597112, -1.69414818,  0.86393593]])"
      ]
     },
     "execution_count": 11,
     "metadata": {},
     "output_type": "execute_result"
    }
   ],
   "source": [
    "scaled"
   ]
  },
  {
   "cell_type": "markdown",
   "id": "1dfe9dc6",
   "metadata": {},
   "source": [
    "## Masking \n",
    "• This is to ensure words don't get context from words generated in the future. (it consider like cheating because you can not know what product may be next \n",
    "• Not required in the encoders, but required int he decoders\n",
    "- in the incoder every vector pass through simuntaneously so it is not needed."
   ]
  },
  {
   "cell_type": "code",
   "execution_count": 12,
   "id": "bc46c8a4",
   "metadata": {},
   "outputs": [
    {
     "data": {
      "text/plain": [
       "array([[1., 0., 0., 0.],\n",
       "       [1., 1., 0., 0.],\n",
       "       [1., 1., 1., 0.],\n",
       "       [1., 1., 1., 1.]])"
      ]
     },
     "execution_count": 12,
     "metadata": {},
     "output_type": "execute_result"
    }
   ],
   "source": [
    "mask = np.tril(np.ones((L,L)))\n",
    "mask"
   ]
  },
  {
   "cell_type": "code",
   "execution_count": 13,
   "id": "691e3315",
   "metadata": {},
   "outputs": [
    {
     "data": {
      "text/plain": [
       "array([[  0., -inf, -inf, -inf],\n",
       "       [  0.,   0., -inf, -inf],\n",
       "       [  0.,   0.,   0., -inf],\n",
       "       [  0.,   0.,   0.,   0.]])"
      ]
     },
     "execution_count": 13,
     "metadata": {},
     "output_type": "execute_result"
    }
   ],
   "source": [
    "mask[mask == 0] = -np.infty\n",
    "mask[mask == 1] = 0\n",
    "mask"
   ]
  },
  {
   "cell_type": "code",
   "execution_count": 14,
   "id": "d805cb50",
   "metadata": {},
   "outputs": [
    {
     "data": {
      "text/plain": [
       "array([[ 1.11982198,        -inf,        -inf,        -inf],\n",
       "       [ 1.88236926, -0.83916642,        -inf,        -inf],\n",
       "       [ 0.97915543, -1.52181708, -1.72500203,        -inf],\n",
       "       [ 0.2862886 ,  0.43597112, -1.69414818,  0.86393593]])"
      ]
     },
     "execution_count": 14,
     "metadata": {},
     "output_type": "execute_result"
    }
   ],
   "source": [
    "scaled + mask"
   ]
  },
  {
   "attachments": {
    "aa13ae2de926795e97e300f0d760ec313ee21231.svg": {
     "image/svg+xml": [
      "PHN2ZyB4bWxuczp4bGluaz0iaHR0cDovL3d3dy53My5vcmcvMTk5OS94bGluayIgd2lkdGg9IjE4Ljc0MWV4IiBoZWlnaHQ9IjYuODQzZXgiIHN0eWxlPSJ2ZXJ0aWNhbC1hbGlnbjogLTMuNTA1ZXg7IiB2aWV3Qm94PSIwIC0xNDM3LjIgODA2OC45IDI5NDYuMSIgcm9sZT0iaW1nIiBmb2N1c2FibGU9ImZhbHNlIiB4bWxucz0iaHR0cDovL3d3dy53My5vcmcvMjAwMC9zdmciIGFyaWEtbGFiZWxsZWRieT0iTWF0aEpheC1TVkctMS1UaXRsZSI+Cjx0aXRsZSBpZD0iTWF0aEpheC1TVkctMS1UaXRsZSI+e1xkaXNwbGF5c3R5bGUgXHNpZ21hIChcbWF0aGJmIHt6fSApX3tpfT17XGZyYWMge2Vee3pfe2l9fX17XHN1bSBfe2o9MX1ee0t9ZV57el97an19fX1cLC59PC90aXRsZT4KPGRlZnMgYXJpYS1oaWRkZW49InRydWUiPgo8cGF0aCBzdHJva2Utd2lkdGg9IjEiIGlkPSJFMS1NSk1BVEhJLTNDMyIgZD0iTTE4NCAtMTFRMTE2IC0xMSA3NCAzNFQzMSAxNDdRMzEgMjQ3IDEwNCAzMzNUMjc0IDQzMFEyNzUgNDMxIDQxNCA0MzFINTUyUTU1MyA0MzAgNTU1IDQyOVQ1NTkgNDI3VDU2MiA0MjVUNTY1IDQyMlQ1NjcgNDIwVDU2OSA0MTZUNTcwIDQxMlQ1NzEgNDA3VDU3MiA0MDFRNTcyIDM1NyA1MDcgMzU3UTUwMCAzNTcgNDkwIDM1N1Q0NzYgMzU4SDQxNkw0MjEgMzQ4UTQzOSAzMTAgNDM5IDI2M1E0MzkgMTUzIDM1OSA3MVQxODQgLTExWk0zNjEgMjc4UTM2MSAzNTggMjc2IDM1OFExNTIgMzU4IDExNSAxODRRMTE0IDE4MCAxMTQgMTc4UTEwNiAxNDEgMTA2IDExN1ExMDYgNjcgMTMxIDQ3VDE4OCAyNlEyNDIgMjYgMjg3IDczUTMxNiAxMDMgMzM0IDE1M1QzNTYgMjMzVDM2MSAyNzhaIj48L3BhdGg+CjxwYXRoIHN0cm9rZS13aWR0aD0iMSIgaWQ9IkUxLU1KTUFJTi0yOCIgZD0iTTk0IDI1MFE5NCAzMTkgMTA0IDM4MVQxMjcgNDg4VDE2NCA1NzZUMjAyIDY0M1QyNDQgNjk1VDI3NyA3MjlUMzAyIDc1MEgzMTVIMzE5UTMzMyA3NTAgMzMzIDc0MVEzMzMgNzM4IDMxNiA3MjBUMjc1IDY2N1QyMjYgNTgxVDE4NCA0NDNUMTY3IDI1MFQxODQgNThUMjI1IC04MVQyNzQgLTE2N1QzMTYgLTIyMFQzMzMgLTI0MVEzMzMgLTI1MCAzMTggLTI1MEgzMTVIMzAyTDI3NCAtMjI2UTE4MCAtMTQxIDEzNyAtMTRUOTQgMjUwWiI+PC9wYXRoPgo8cGF0aCBzdHJva2Utd2lkdGg9IjEiIGlkPSJFMS1NSk1BSU5CLTdBIiBkPSJNNDggMjYyUTQ4IDI2NCA1NCAzNDlUNjAgNDM2VjQ0NEgyNTJRMjg5IDQ0NCAzMzYgNDQ0VDM5NCA0NDVRNDQxIDQ0NSA0NTAgNDQxVDQ1OSA0MThRNDU5IDQwNiA0NTggNDA0UTQ1NiAzOTkgMzI3IDIyOVQxOTQgNTVIMjM3UTI2MCA1NiAyNjggNTZUMjk3IDU4VDMyNSA2NVQzNDggNzdUMzcwIDk4VDM4NCAxMjhUMzk1IDE3MFE0MDAgMTk3IDQwMCAyMTZRNDAwIDIxNyA0MzEgMjE3SDQ2MlYyMTFRNDYxIDIwOCA0NTMgMTA4VDQ0NCA2VjBIMjQ1UTQ2IDAgNDMgMlEzMiA3IDMyIDI4VjMzUTMyIDQxIDQwIDUyVDg0IDExMlExMjkgMTcwIDE2NCAyMTdMMjk4IDM5M0gyNTZRMTg5IDM5MiAxNjUgMzgwUTEyNCAzNjAgMTE1IDMwM1ExMTAgMjgwIDExMCAyNTZRMTEwIDI1NCA3OSAyNTRINDhWMjYyWiI+PC9wYXRoPgo8cGF0aCBzdHJva2Utd2lkdGg9IjEiIGlkPSJFMS1NSk1BSU4tMjkiIGQ9Ik02MCA3NDlMNjQgNzUwUTY5IDc1MCA3NCA3NTBIODZMMTE0IDcyNlEyMDggNjQxIDI1MSA1MTRUMjk0IDI1MFEyOTQgMTgyIDI4NCAxMTlUMjYxIDEyVDIyNCAtNzZUMTg2IC0xNDNUMTQ1IC0xOTRUMTEzIC0yMjdUOTAgLTI0NlE4NyAtMjQ5IDg2IC0yNTBINzRRNjYgLTI1MCA2MyAtMjUwVDU4IC0yNDdUNTUgLTIzOFE1NiAtMjM3IDY2IC0yMjVRMjIxIC02NCAyMjEgMjUwVDY2IDcyNVE1NiA3MzcgNTUgNzM4UTU1IDc0NiA2MCA3NDlaIj48L3BhdGg+CjxwYXRoIHN0cm9rZS13aWR0aD0iMSIgaWQ9IkUxLU1KTUFUSEktNjkiIGQ9Ik0xODQgNjAwUTE4NCA2MjQgMjAzIDY0MlQyNDcgNjYxUTI2NSA2NjEgMjc3IDY0OVQyOTAgNjE5UTI5MCA1OTYgMjcwIDU3N1QyMjYgNTU3UTIxMSA1NTcgMTk4IDU2N1QxODQgNjAwWk0yMSAyODdRMjEgMjk1IDMwIDMxOFQ1NCAzNjlUOTggNDIwVDE1OCA0NDJRMTk3IDQ0MiAyMjMgNDE5VDI1MCAzNTdRMjUwIDM0MCAyMzYgMzAxVDE5NiAxOTZUMTU0IDgzUTE0OSA2MSAxNDkgNTFRMTQ5IDI2IDE2NiAyNlExNzUgMjYgMTg1IDI5VDIwOCA0M1QyMzUgNzhUMjYwIDEzN1EyNjMgMTQ5IDI2NSAxNTFUMjgyIDE1M1EzMDIgMTUzIDMwMiAxNDNRMzAyIDEzNSAyOTMgMTEyVDI2OCA2MVQyMjMgMTFUMTYxIC0xMVExMjkgLTExIDEwMiAxMFQ3NCA3NFE3NCA5MSA3OSAxMDZUMTIyIDIyMFExNjAgMzIxIDE2NiAzNDFUMTczIDM4MFExNzMgNDA0IDE1NiA0MDRIMTU0UTEyNCA0MDQgOTkgMzcxVDYxIDI4N1E2MCAyODYgNTkgMjg0VDU4IDI4MVQ1NiAyNzlUNTMgMjc4VDQ5IDI3OFQ0MSAyNzhIMjdRMjEgMjg0IDIxIDI4N1oiPjwvcGF0aD4KPHBhdGggc3Ryb2tlLXdpZHRoPSIxIiBpZD0iRTEtTUpNQUlOLTNEIiBkPSJNNTYgMzQ3UTU2IDM2MCA3MCAzNjdINzA3UTcyMiAzNTkgNzIyIDM0N1E3MjIgMzM2IDcwOCAzMjhMMzkwIDMyN0g3MlE1NiAzMzIgNTYgMzQ3Wk01NiAxNTNRNTYgMTY4IDcyIDE3M0g3MDhRNzIyIDE2MyA3MjIgMTUzUTcyMiAxNDAgNzA3IDEzM0g3MFE1NiAxNDAgNTYgMTUzWiI+PC9wYXRoPgo8cGF0aCBzdHJva2Utd2lkdGg9IjEiIGlkPSJFMS1NSk1BVEhJLTY1IiBkPSJNMzkgMTY4UTM5IDIyNSA1OCAyNzJUMTA3IDM1MFQxNzQgNDAyVDI0NCA0MzNUMzA3IDQ0MkgzMTBRMzU1IDQ0MiAzODggNDIwVDQyMSAzNTVRNDIxIDI2NSAzMTAgMjM3UTI2MSAyMjQgMTc2IDIyM1ExMzkgMjIzIDEzOCAyMjFRMTM4IDIxOSAxMzIgMTg2VDEyNSAxMjhRMTI1IDgxIDE0NiA1NFQyMDkgMjZUMzAyIDQ1VDM5NCAxMTFRNDAzIDEyMSA0MDYgMTIxUTQxMCAxMjEgNDE5IDExMlQ0MjkgOThUNDIwIDgyVDM5MCA1NVQzNDQgMjRUMjgxIC0xVDIwNSAtMTFRMTI2IC0xMSA4MyA0MlQzOSAxNjhaTTM3MyAzNTNRMzY3IDQwNSAzMDUgNDA1UTI3MiA0MDUgMjQ0IDM5MVQxOTkgMzU3VDE3MCAzMTZUMTU0IDI4MFQxNDkgMjYxUTE0OSAyNjAgMTY5IDI2MFEyODIgMjYwIDMyNyAyODRUMzczIDM1M1oiPjwvcGF0aD4KPHBhdGggc3Ryb2tlLXdpZHRoPSIxIiBpZD0iRTEtTUpNQVRISS03QSIgZD0iTTM0NyAzMzhRMzM3IDMzOCAyOTQgMzQ5VDIzMSAzNjBRMjExIDM2MCAxOTcgMzU2VDE3NCAzNDZUMTYyIDMzNVQxNTUgMzI0TDE1MyAzMjBRMTUwIDMxNyAxMzggMzE3UTExNyAzMTcgMTE3IDMyNVExMTcgMzMwIDEyMCAzMzlRMTMzIDM3OCAxNjMgNDA2VDIyOSA0NDBRMjQxIDQ0MiAyNDYgNDQyUTI3MSA0NDIgMjkxIDQyNVQzMjkgMzkyVDM2NyAzNzVRMzg5IDM3NSA0MTEgNDA4VDQzNCA0NDFRNDM1IDQ0MiA0NDkgNDQySDQ2MlE0NjggNDM2IDQ2OCA0MzRRNDY4IDQzMCA0NjMgNDIwVDQ0OSAzOTlUNDMyIDM3N1Q0MTggMzU4TDQxMSAzNDlRMzY4IDI5OCAyNzUgMjE0VDE2MCAxMDZMMTQ4IDk0TDE2MyA5M1ExODUgOTMgMjI3IDgyVDI5MCA3MVEzMjggNzEgMzYwIDkwVDQwMiAxNDBRNDA2IDE0OSA0MDkgMTUxVDQyNCAxNTNRNDQzIDE1MyA0NDMgMTQzUTQ0MyAxMzggNDQyIDEzNFE0MjUgNzIgMzc2IDMxVDI3OCAtMTFRMjUyIC0xMSAyMzIgNlQxOTMgNDBUMTU1IDU3UTExMSA1NyA3NiAtM1E3MCAtMTEgNTkgLTExSDU0SDQxUTM1IC01IDM1IC0yUTM1IDEzIDkzIDg0UTEzMiAxMjkgMjI1IDIxNFQzNDAgMzIyUTM1MiAzMzggMzQ3IDMzOFoiPjwvcGF0aD4KPHBhdGggc3Ryb2tlLXdpZHRoPSIxIiBpZD0iRTEtTUpTWjEtMjIxMSIgZD0iTTYxIDc0OFE2NCA3NTAgNDg5IDc1MEg5MTNMOTU0IDY0MFE5NjUgNjA5IDk3NiA1NzlUOTkzIDUzM1Q5OTkgNTE2SDk3OUw5NTkgNTE3UTkzNiA1NzkgODg2IDYyMVQ3NzcgNjgyUTcyNCA3MDAgNjU1IDcwNVQ0MzYgNzEwSDMxOVExODMgNzEwIDE4MyA3MDlRMTg2IDcwNiAzNDggNDg0VDUxMSAyNTlRNTE3IDI1MCA1MTMgMjQ0TDQ5MCAyMTZRNDY2IDE4OCA0MjAgMTM0VDMzMCAyN0wxNDkgLTE4N1ExNDkgLTE4OCAzNjIgLTE4OFEzODggLTE4OCA0MzYgLTE4OFQ1MDYgLTE4OVE2NzkgLTE4OSA3NzggLTE2MlQ5MzYgLTQzUTk0NiAtMjcgOTU5IDZIOTk5TDkxMyAtMjQ5TDQ4OSAtMjUwUTY1IC0yNTAgNjIgLTI0OFE1NiAtMjQ2IDU2IC0yMzlRNTYgLTIzNCAxMTggLTE2MVExODYgLTgxIDI0NSAtMTFMNDI4IDIwNlE0MjggMjA3IDI0MiA0NjJMNTcgNzE3TDU2IDcyOFE1NiA3NDQgNjEgNzQ4WiI+PC9wYXRoPgo8cGF0aCBzdHJva2Utd2lkdGg9IjEiIGlkPSJFMS1NSk1BVEhJLTRCIiBkPSJNMjg1IDYyOFEyODUgNjM1IDIyOCA2MzdRMjA1IDYzNyAxOTggNjM4VDE5MSA2NDdRMTkxIDY0OSAxOTMgNjYxUTE5OSA2ODEgMjAzIDY4MlEyMDUgNjgzIDIxNCA2ODNIMjE5UTI2MCA2ODEgMzU1IDY4MVEzODkgNjgxIDQxOCA2ODFUNDYzIDY4MlQ0ODMgNjgyUTUwMCA2ODIgNTAwIDY3NFE1MDAgNjY5IDQ5NyA2NjBRNDk2IDY1OCA0OTYgNjU0VDQ5NSA2NDhUNDkzIDY0NFQ0OTAgNjQxVDQ4NiA2MzlUNDc5IDYzOFQ0NzAgNjM3VDQ1NiA2MzdRNDE2IDYzNiA0MDUgNjM0VDM4NyA2MjNMMzA2IDMwNVEzMDcgMzA1IDQ5MCA0NDlUNjc4IDU5N1E2OTIgNjExIDY5MiA2MjBRNjkyIDYzNSA2NjcgNjM3UTY1MSA2MzcgNjUxIDY0OFE2NTEgNjUwIDY1NCA2NjJUNjU5IDY3N1E2NjIgNjgyIDY3NiA2ODJRNjgwIDY4MiA3MTEgNjgxVDc5MSA2ODBRODE0IDY4MCA4MzkgNjgxVDg2OSA2ODJRODg5IDY4MiA4ODkgNjcyUTg4OSA2NTAgODgxIDY0MlE4NzggNjM3IDg2MiA2MzdRNzg3IDYzMiA3MjYgNTg2UTcxMCA1NzYgNjU2IDUzNFQ1NTYgNDU1TDUwOSA0MThMNTE4IDM5NlE1MjcgMzc0IDU0NiAzMjlUNTgxIDI0NFE2NTYgNjcgNjYxIDYxUTY2MyA1OSA2NjYgNTdRNjgwIDQ3IDcxNyA0Nkg3MzhRNzQ0IDM4IDc0NCAzN1Q3NDEgMTlRNzM3IDYgNzMxIDBINzIwUTY4MCAzIDYyNSAzUTUwMyAzIDQ4OCAwSDQ3OFE0NzIgNiA0NzIgOVQ0NzQgMjdRNDc4IDQwIDQ4MCA0M1Q0OTEgNDZINDk0UTU0NCA0NiA1NDQgNzFRNTQ0IDc1IDUxNyAxNDFUNDg1IDIxNkw0MjcgMzU0TDM1OSAzMDFMMjkxIDI0OEwyNjggMTU1UTI0NSA2MyAyNDUgNThRMjQ1IDUxIDI1MyA0OVQzMDMgNDZIMzM0UTM0MCAzNyAzNDAgMzVRMzQwIDE5IDMzMyA1UTMyOCAwIDMxNyAwUTMxNCAwIDI4MCAxVDE4MCAyUTExOCAyIDg1IDJUNDkgMVEzMSAxIDMxIDExUTMxIDEzIDM0IDI1UTM4IDQxIDQyIDQzVDY1IDQ2UTkyIDQ2IDEyNSA0OVExMzkgNTIgMTQ0IDYxUTE0NyA2NSAyMTYgMzM5VDI4NSA2MjhaIj48L3BhdGg+CjxwYXRoIHN0cm9rZS13aWR0aD0iMSIgaWQ9IkUxLU1KTUFUSEktNkEiIGQ9Ik0yOTcgNTk2UTI5NyA2MjcgMzE4IDY0NFQzNjEgNjYxUTM3OCA2NjEgMzg5IDY1MVQ0MDMgNjIzUTQwMyA1OTUgMzg0IDU3NlQzNDAgNTU3UTMyMiA1NTcgMzEwIDU2N1QyOTcgNTk2Wk0yODggMzc2UTI4OCA0MDUgMjYyIDQwNVEyNDAgNDA1IDIyMCAzOTNUMTg1IDM2MlQxNjEgMzI1VDE0NCAyOTNMMTM3IDI3OVExMzUgMjc4IDEyMSAyNzhIMTA3UTEwMSAyODQgMTAxIDI4NlQxMDUgMjk5UTEyNiAzNDggMTY0IDM5MVQyNTIgNDQxUTI1MyA0NDEgMjYwIDQ0MVQyNzIgNDQyUTI5NiA0NDEgMzE2IDQzMlEzNDEgNDE4IDM1NCA0MDFUMzY3IDM0OFYzMzJMMzE4IDEzM1EyNjcgLTY3IDI2NCAtNzVRMjQ2IC0xMjUgMTk0IC0xNjRUNzUgLTIwNFEyNSAtMjA0IDcgLTE4M1QtMTIgLTEzN1EtMTIgLTExMCA3IC05MVQ1MyAtNzFRNzAgLTcxIDgyIC04MVQ5NSAtMTEyUTk1IC0xNDggNjMgLTE2N1E2OSAtMTY4IDc3IC0xNjhRMTExIC0xNjggMTM5IC0xNDBUMTgyIC03NEwxOTMgLTMyUTIwNCAxMSAyMTkgNzJUMjUxIDE5N1QyNzggMzA4VDI4OSAzNjVRMjg5IDM3MiAyODggMzc2WiI+PC9wYXRoPgo8cGF0aCBzdHJva2Utd2lkdGg9IjEiIGlkPSJFMS1NSk1BSU4tMzEiIGQ9Ik0yMTMgNTc4TDIwMCA1NzNRMTg2IDU2OCAxNjAgNTYzVDEwMiA1NTZIODNWNjAySDEwMlExNDkgNjA0IDE4OSA2MTdUMjQ1IDY0MVQyNzMgNjYzUTI3NSA2NjYgMjg1IDY2NlEyOTQgNjY2IDMwMiA2NjBWMzYxTDMwMyA2MVEzMTAgNTQgMzE1IDUyVDMzOSA0OFQ0MDEgNDZINDI3VjBINDE2UTM5NSAzIDI1NyAzUTEyMSAzIDEwMCAwSDg4VjQ2SDExNFExMzYgNDYgMTUyIDQ2VDE3NyA0N1QxOTMgNTBUMjAxIDUyVDIwNyA1N1QyMTMgNjFWNTc4WiI+PC9wYXRoPgo8cGF0aCBzdHJva2Utd2lkdGg9IjEiIGlkPSJFMS1NSk1BSU4tMkUiIGQ9Ik03OCA2MFE3OCA4NCA5NSAxMDJUMTM4IDEyMFExNjIgMTIwIDE4MCAxMDRUMTk5IDYxUTE5OSAzNiAxODIgMThUMTM5IDBUOTYgMTdUNzggNjBaIj48L3BhdGg+CjwvZGVmcz4KPGcgc3Ryb2tlPSJjdXJyZW50Q29sb3IiIGZpbGw9ImN1cnJlbnRDb2xvciIgc3Ryb2tlLXdpZHRoPSIwIiB0cmFuc2Zvcm09Im1hdHJpeCgxIDAgMCAtMSAwIDApIiBhcmlhLWhpZGRlbj0idHJ1ZSI+CiA8dXNlIHhsaW5rOmhyZWY9IiNFMS1NSk1BVEhJLTNDMyIgeD0iMCIgeT0iMCI+PC91c2U+CiA8dXNlIHhsaW5rOmhyZWY9IiNFMS1NSk1BSU4tMjgiIHg9IjU3MiIgeT0iMCI+PC91c2U+CiA8dXNlIHhsaW5rOmhyZWY9IiNFMS1NSk1BSU5CLTdBIiB4PSI5NjIiIHk9IjAiPjwvdXNlPgo8ZyB0cmFuc2Zvcm09InRyYW5zbGF0ZSgxNDczLDApIj4KIDx1c2UgeGxpbms6aHJlZj0iI0UxLU1KTUFJTi0yOSIgeD0iMCIgeT0iMCI+PC91c2U+CiA8dXNlIHRyYW5zZm9ybT0ic2NhbGUoMC43MDcpIiB4bGluazpocmVmPSIjRTEtTUpNQVRISS02OSIgeD0iNTUwIiB5PSItMjEzIj48L3VzZT4KPC9nPgogPHVzZSB4bGluazpocmVmPSIjRTEtTUpNQUlOLTNEIiB4PSIyNDg1IiB5PSIwIj48L3VzZT4KPGcgdHJhbnNmb3JtPSJ0cmFuc2xhdGUoMzU0MSwwKSI+CjxnIHRyYW5zZm9ybT0idHJhbnNsYXRlKDEyMCwwKSI+CjxyZWN0IHN0cm9rZT0ibm9uZSIgd2lkdGg9IjM4NDIiIGhlaWdodD0iNjAiIHg9IjAiIHk9IjIyMCI+PC9yZWN0Pgo8ZyB0cmFuc2Zvcm09InRyYW5zbGF0ZSgxMzM4LDY3NikiPgogPHVzZSB4bGluazpocmVmPSIjRTEtTUpNQVRISS02NSIgeD0iMCIgeT0iMCI+PC91c2U+CjxnIHRyYW5zZm9ybT0idHJhbnNsYXRlKDQ2NiwzNjIpIj4KIDx1c2UgdHJhbnNmb3JtPSJzY2FsZSgwLjcwNykiIHhsaW5rOmhyZWY9IiNFMS1NSk1BVEhJLTdBIiB4PSIwIiB5PSIwIj48L3VzZT4KIDx1c2UgdHJhbnNmb3JtPSJzY2FsZSgwLjU3NCkiIHhsaW5rOmhyZWY9IiNFMS1NSk1BVEhJLTY5IiB4PSI1NzMiIHk9Ii0yMzgiPjwvdXNlPgo8L2c+CjwvZz4KPGcgdHJhbnNmb3JtPSJ0cmFuc2xhdGUoNjAsLTk4MikiPgogPHVzZSB4bGluazpocmVmPSIjRTEtTUpTWjEtMjIxMSIgeD0iMCIgeT0iMCI+PC91c2U+CiA8dXNlIHRyYW5zZm9ybT0ic2NhbGUoMC43MDcpIiB4bGluazpocmVmPSIjRTEtTUpNQVRISS00QiIgeD0iMTQ5NCIgeT0iNjc1Ij48L3VzZT4KPGcgdHJhbnNmb3JtPSJ0cmFuc2xhdGUoMTA1NiwtMjg3KSI+CiA8dXNlIHRyYW5zZm9ybT0ic2NhbGUoMC43MDcpIiB4bGluazpocmVmPSIjRTEtTUpNQVRISS02QSIgeD0iMCIgeT0iMCI+PC91c2U+CiA8dXNlIHRyYW5zZm9ybT0ic2NhbGUoMC43MDcpIiB4bGluazpocmVmPSIjRTEtTUpNQUlOLTNEIiB4PSI0MTIiIHk9IjAiPjwvdXNlPgogPHVzZSB0cmFuc2Zvcm09InNjYWxlKDAuNzA3KSIgeGxpbms6aHJlZj0iI0UxLU1KTUFJTi0zMSIgeD0iMTE5MSIgeT0iMCI+PC91c2U+CjwvZz4KPGcgdHJhbnNmb3JtPSJ0cmFuc2xhdGUoMjUxOSwwKSI+CiA8dXNlIHhsaW5rOmhyZWY9IiNFMS1NSk1BVEhJLTY1IiB4PSIwIiB5PSIwIj48L3VzZT4KPGcgdHJhbnNmb3JtPSJ0cmFuc2xhdGUoNDY2LDM2MSkiPgogPHVzZSB0cmFuc2Zvcm09InNjYWxlKDAuNzA3KSIgeGxpbms6aHJlZj0iI0UxLU1KTUFUSEktN0EiIHg9IjAiIHk9IjAiPjwvdXNlPgogPHVzZSB0cmFuc2Zvcm09InNjYWxlKDAuNTc0KSIgeGxpbms6aHJlZj0iI0UxLU1KTUFUSEktNkEiIHg9IjU3MyIgeT0iLTIzOCI+PC91c2U+CjwvZz4KPC9nPgo8L2c+CjwvZz4KPC9nPgogPHVzZSB4bGluazpocmVmPSIjRTEtTUpNQUlOLTJFIiB4PSI3NzkwIiB5PSIwIj48L3VzZT4KPC9nPgo8L3N2Zz4="
     ]
    }
   },
    
  {
   "cell_type": "code",
   "execution_count": 15,
   "id": "c416d169",
   "metadata": {},
   "outputs": [],
   "source": [
    "def softmax(x):\n",
    "    return (np.exp(x).T / np.sum(np.exp(x), axis = -1)).T"
   ]
  },
  {
   "cell_type": "code",
   "execution_count": 16,
   "id": "2c0720ee",
   "metadata": {},
   "outputs": [],
   "source": [
    "attention = softmax(scaled + mask)"
   ]
  },
  {
   "cell_type": "code",
   "execution_count": null,
   "id": "23e81263",
   "metadata": {},
   "outputs": [],
   "source": [
    "attention "
   ]
  },
  {
   "cell_type": "code",
   "execution_count": null,
   "id": "8e7e30ed",
   "metadata": {},
   "outputs": [],
   "source": [
    "# using mask we remove the context ( showing zero )\n",
    "new_v = np.matmul(attention ,v)"
   ]
  },
  {
   "cell_type": "markdown",
   "id": "56fb6cd6",
   "metadata": {},
   "source": [
    "# Multi Head Attention "
   ]
  },
  {
   "cell_type": "code",
   "execution_count": 18,
   "id": "2a8b00d8",
   "metadata": {},
   "outputs": [],
   "source": [
    "import numpy as np \n",
    "import torch \n",
    "import torch.nn as nn\n",
    "import torch.nn.functional as f\n",
    "import math"
   ]
  },
  {
   "cell_type": "code",
   "execution_count": 2,
   "id": "5f127508",
   "metadata": {},
   "outputs": [],
   "source": [
    "sequence_length = 4\n",
    "batch_size = 1\n",
    "input_dim = 512\n",
    "d_model = 512\n",
    "x = torch.randn((batch_size,sequence_length,input_dim))"
   ]
  },
  {
   "cell_type": "code",
   "execution_count": 3,
   "id": "9a10c1a9",
   "metadata": {},
   "outputs": [
    {
     "data": {
      "text/plain": [
       "torch.Size([1, 4, 512])"
      ]
     },
     "execution_count": 3,
     "metadata": {},
     "output_type": "execute_result"
    }
   ],
   "source": [
    "x.size()"
   ]
  },
  {
   "cell_type": "code",
   "execution_count": 6,
   "id": "73936dc2",
   "metadata": {},
   "outputs": [],
   "source": [
    "qkv_layer = nn.Linear(input_dim,3 * d_model)"
   ]
  },
  {
   "cell_type": "code",
   "execution_count": 8,
   "id": "b4e7f9ad",
   "metadata": {},
   "outputs": [
    {
     "data": {
      "text/plain": [
       "torch.Size([1, 4, 1536])"
      ]
     },
     "execution_count": 8,
     "metadata": {},
     "output_type": "execute_result"
    }
   ],
   "source": [
    "qkv = qkv_layer(x)\n",
    "qkv.shape"
   ]
  },
  {
   "cell_type": "code",
   "execution_count": 10,
   "id": "32b4cfbd",
   "metadata": {},
   "outputs": [],
   "source": [
    "num_head = 8\n",
    "head_dim = d_model //num_head\n",
    "qkv = qkv.reshape(batch_size,sequence_length,num_head,3*head_dim)"
   ]
  },
  {
   "cell_type": "code",
   "execution_count": 11,
   "id": "3c6cd903",
   "metadata": {},
   "outputs": [
    {
     "data": {
      "text/plain": [
       "torch.Size([1, 4, 8, 192])"
      ]
     },
     "execution_count": 11,
     "metadata": {},
     "output_type": "execute_result"
    }
   ],
   "source": [
    "qkv.shape"
   ]
  },
  {
   "cell_type": "code",
   "execution_count": 12,
   "id": "77f60389",
   "metadata": {},
   "outputs": [],
   "source": [
    "qkv = qkv.permute(0,2,1,3) #changing it so it is easier later on ( could have done it above reshape(batch.size(),num_head,sequence_len----))"
   ]
  },
  {
   "cell_type": "code",
   "execution_count": 13,
   "id": "89b70983",
   "metadata": {},
   "outputs": [
    {
     "data": {
      "text/plain": [
       "torch.Size([1, 8, 4, 192])"
      ]
     },
     "execution_count": 13,
     "metadata": {},
     "output_type": "execute_result"
    }
   ],
   "source": [
    "qkv.shape"
   ]
  },
  {
   "cell_type": "code",
   "execution_count": 14,
   "id": "5716af02",
   "metadata": {},
   "outputs": [
    {
     "data": {
      "text/plain": [
       "(torch.Size([1, 8, 4, 64]),\n",
       " torch.Size([1, 8, 4, 64]),\n",
       " torch.Size([1, 8, 4, 64]))"
      ]
     },
     "execution_count": 14,
     "metadata": {},
     "output_type": "execute_result"
    }
   ],
   "source": [
    "q , k ,v = qkv.chunk(3,dim = -1) # break by last dim\n",
    "q.shape,k.shape,v.shape"
   ]
  },
  {
   "cell_type": "code",
   "execution_count": 19,
   "id": "912eab69",
   "metadata": {},
   "outputs": [
    {
     "data": {
      "text/plain": [
       "torch.Size([1, 8, 4, 4])"
      ]
     },
     "execution_count": 19,
     "metadata": {},
     "output_type": "execute_result"
    }
   ],
   "source": [
    "d_k = q.size()[-1]\n",
    "scaled = torch.matmul(q,k.transpose(-2,-1))/math.sqrt(d_k)  #since it is 4 dimesion we specify we want to tranpose\n",
    "scaled.shape"
   ]
  },
  {
   "cell_type": "code",
   "execution_count": 20,
   "id": "85f804d1",
   "metadata": {},
   "outputs": [
    {
     "name": "stderr",
     "output_type": "stream",
     "text": [
      "C:\\Users\\asus\\AppData\\Local\\Temp\\ipykernel_2564\\3717780648.py:1: UserWarning: The use of `x.T` on tensors of dimension other than 2 to reverse their shape is deprecated and it will throw an error in a future release. Consider `x.mT` to transpose batches of matrices or `x.permute(*torch.arange(x.ndim - 1, -1, -1))` to reverse the dimensions of a tensor. (Triggered internally at C:\\actions-runner\\_work\\pytorch\\pytorch\\builder\\windows\\pytorch\\aten\\src\\ATen\\native\\TensorShape.cpp:3687.)\n",
      "  k.T.shape\n"
     ]
    },
    {
     "data": {
      "text/plain": [
       "torch.Size([64, 4, 8, 1])"
      ]
     },
     "execution_count": 20,
     "metadata": {},
     "output_type": "execute_result"
    }
   ],
   "source": [
    "k.T.shape"
   ]
  },
  {
   "cell_type": "code",
   "execution_count": 21,
   "id": "7a127155",
   "metadata": {},
   "outputs": [
    {
     "data": {
      "text/plain": [
       "tensor([[ 0.9020, -0.0798],\n",
       "        [ 0.2107,  0.7454],\n",
       "        [ 0.2380,  1.1292]])"
      ]
     },
     "execution_count": 21,
     "metadata": {},
     "output_type": "execute_result"
    }
   ],
   "source": [
    "y = torch.randn(2,3)\n",
    "torch.transpose(y,0,1)"
   ]
  },
  {
   "cell_type": "code",
   "execution_count": 22,
   "id": "96c8ed97",
   "metadata": {},
   "outputs": [
    {
     "data": {
      "text/plain": [
       "tensor([[ 0.9020, -0.0798],\n",
       "        [ 0.2107,  0.7454],\n",
       "        [ 0.2380,  1.1292]])"
      ]
     },
     "execution_count": 22,
     "metadata": {},
     "output_type": "execute_result"
    }
   ],
   "source": [
    "torch.transpose(y,1,0)"
   ]
  },
  {
   "cell_type": "code",
   "execution_count": 23,
   "id": "0c5956e9",
   "metadata": {},
   "outputs": [
    {
     "data": {
      "text/plain": [
       "tensor([[0., -inf, -inf, -inf],\n",
       "        [0., 0., -inf, -inf],\n",
       "        [0., 0., 0., -inf],\n",
       "        [0., 0., 0., 0.]])"
      ]
     },
     "execution_count": 23,
     "metadata": {},
     "output_type": "execute_result"
    }
   ],
   "source": [
    "# create mask like prev for decoder \n",
    "mask = torch.full(scaled.size(),float('-inf'))\n",
    "mask = torch.triu(mask ,diagonal = 1) # triu mean upper triangle in matrix remaining fill with 0\n",
    "mask[0][1]"
   ]
  },
  {
   "cell_type": "code",
   "execution_count": 24,
   "id": "3fb2e2cb",
   "metadata": {},
   "outputs": [
    {
     "data": {
      "text/plain": [
       "tensor([[ 0.1468,    -inf,    -inf,    -inf],\n",
       "        [-0.0873,  0.0956,    -inf,    -inf],\n",
       "        [-0.4673,  0.2466, -0.2810,    -inf],\n",
       "        [ 0.0617,  0.0521, -0.0709,  0.3432]], grad_fn=<SelectBackward0>)"
      ]
     },
     "execution_count": 24,
     "metadata": {},
     "output_type": "execute_result"
    }
   ],
   "source": [
    "(scaled + mask)[0][0]"
   ]
  },
  {
   "cell_type": "code",
   "execution_count": 25,
   "id": "85220f82",
   "metadata": {},
   "outputs": [],
   "source": [
    "scaled += mask"
   ]
  },
  {
   "cell_type": "code",
   "execution_count": 27,
   "id": "9a2879ff",
   "metadata": {},
   "outputs": [
    {
     "data": {
      "text/plain": [
       "0.6269606805367254"
      ]
     },
     "execution_count": 27,
     "metadata": {},
     "output_type": "execute_result"
    }
   ],
   "source": [
    "np.exp(0.5596) / (np.exp(0.5596) + np.exp(0.0404))"
   ]
  },
  {
   "cell_type": "code",
   "execution_count": 29,
   "id": "df5571f5",
   "metadata": {},
   "outputs": [],
   "source": [
    "attention = f.softmax(scaled, dim = -1)"
   ]
  },
  {
   "cell_type": "code",
   "execution_count": 30,
   "id": "8a99e7b7",
   "metadata": {},
   "outputs": [
    {
     "data": {
      "text/plain": [
       "torch.Size([1, 8, 4, 4])"
      ]
     },
     "execution_count": 30,
     "metadata": {},
     "output_type": "execute_result"
    }
   ],
   "source": [
    "attention.shape"
   ]
  },
  {
   "cell_type": "code",
   "execution_count": 31,
   "id": "78276805",
   "metadata": {},
   "outputs": [
    {
     "data": {
      "text/plain": [
       "torch.Size([1, 8, 4, 64])"
      ]
     },
     "execution_count": 31,
     "metadata": {},
     "output_type": "execute_result"
    }
   ],
   "source": [
    "value = torch.matmul(attention,v)\n",
    "value.shape"
   ]
  },
  {
   "cell_type": "code",
   "execution_count": 32,
   "id": "7bb23b4f",
   "metadata": {},
   "outputs": [],
   "source": [
    "import math\n",
    "def scaled_dot_product(q, k, v, mask = None):\n",
    "    d_k = q.size()[-1]\n",
    "    scaled = torch.matmul(q,k.transpose(-1,-2))/math.sqrt(d_k)\n",
    "    if mask not in None:\n",
    "        scaled += mask\n",
    "        \n",
    "    attention = f.softmax(scaled,dim = -1)\n",
    "    value = torch.matmul(attention,v)\n",
    "    return value,attention"
   ]
  },
  {
   "cell_type": "markdown",
   "id": "d06caa3a",
   "metadata": {},
   "source": [
    "## Positional encoding Transformer"
   ]
  },
  {
   "attachments": {
    "image-2.png": {
     "image/png": "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"
    },
    "image.png": {
     "image/png": "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"
    }
   },
   "cell_type": "markdown",
   "id": "fdad21b6",
   "metadata": {},
   "source": [
    "![image.png](attachment:image.png)\n",
    "![image-2.png](attachment:image-2.png)"
   ]
  },
  {
   "cell_type": "code",
   "execution_count": 1,
   "id": "b5aa741f",
   "metadata": {},
   "outputs": [],
   "source": [
    "import torch \n",
    "import torch.nn as nn\n",
    "\n",
    "max_sequence_length = 10\n",
    "d_model = 6 # attention of embedding it is general 512"
   ]
  },
  {
   "cell_type": "code",
   "execution_count": 3,
   "id": "2b006a5c",
   "metadata": {},
   "outputs": [
    {
     "data": {
      "text/plain": [
       "tensor([0., 2., 4.])"
      ]
     },
     "execution_count": 3,
     "metadata": {},
     "output_type": "execute_result"
    }
   ],
   "source": [
    "even_i = torch.arange(0 ,d_model,2).float()\n",
    "even_i"
   ]
  },
  {
   "cell_type": "code",
   "execution_count": 4,
   "id": "aa3f42b5",
   "metadata": {},
   "outputs": [
    {
     "data": {
      "text/plain": [
       "tensor([  1.0000,  21.5443, 464.1590])"
      ]
     },
     "execution_count": 4,
     "metadata": {},
     "output_type": "execute_result"
    }
   ],
   "source": [
    "even_denominater = torch.pow(10000,even_i/d_model)\n",
    "even_denominater"
   ]
  },
  {
   "cell_type": "code",
   "execution_count": 5,
   "id": "1d86ec9a",
   "metadata": {},
   "outputs": [
    {
     "data": {
      "text/plain": [
       "tensor([1., 3., 5.])"
      ]
     },
     "execution_count": 5,
     "metadata": {},
     "output_type": "execute_result"
    }
   ],
   "source": [
    "odd_i = torch.arange(1 ,d_model,2).float()\n",
    "odd_i"
   ]
  },
  {
   "cell_type": "code",
   "execution_count": 6,
   "id": "8458af07",
   "metadata": {},
   "outputs": [
    {
     "data": {
      "text/plain": [
       "tensor([  1.0000,  21.5443, 464.1590])"
      ]
     },
     "execution_count": 6,
     "metadata": {},
     "output_type": "execute_result"
    }
   ],
   "source": [
    "even_denominater = torch.pow(10000,(odd_i - 1)/d_model)\n",
    "even_denominater"
   ]
  },
  {
   "cell_type": "code",
   "execution_count": 7,
   "id": "b725ac81",
   "metadata": {},
   "outputs": [
    {
     "data": {
      "text/plain": [
       "tensor([  1.0000,  21.5443, 464.1590])"
      ]
     },
     "execution_count": 7,
     "metadata": {},
     "output_type": "execute_result"
    }
   ],
   "source": [
    "# as we can see both will be same so we can just use denominator here\n",
    "denominater = even_denominater\n",
    "denominater"
   ]
  },
  {
   "cell_type": "code",
   "execution_count": 8,
   "id": "62ff9223",
   "metadata": {},
   "outputs": [],
   "source": [
    "position  = torch.arange(max_sequence_length,dtype = torch.float).reshape(max_sequence_length,1)"
   ]
  },
  {
   "cell_type": "code",
   "execution_count": 9,
   "id": "18a57774",
   "metadata": {},
   "outputs": [
    {
     "data": {
      "text/plain": [
       "tensor([[0.],\n",
       "        [1.],\n",
       "        [2.],\n",
       "        [3.],\n",
       "        [4.],\n",
       "        [5.],\n",
       "        [6.],\n",
       "        [7.],\n",
       "        [8.],\n",
       "        [9.]])"
      ]
     },
     "execution_count": 9,
     "metadata": {},
     "output_type": "execute_result"
    }
   ],
   "source": [
    "position"
   ]
  },
  {
   "cell_type": "code",
   "execution_count": 10,
   "id": "78dc51ea",
   "metadata": {},
   "outputs": [],
   "source": [
    "even_PE = torch.sin(position/denominater)\n",
    "odd_PE = torch.cos(position/denominater)"
   ]
  },
  {
   "cell_type": "code",
   "execution_count": 11,
   "id": "00e9ed4a",
   "metadata": {},
   "outputs": [
    {
     "data": {
      "text/plain": [
       "tensor([[ 0.0000,  0.0000,  0.0000],\n",
       "        [ 0.8415,  0.0464,  0.0022],\n",
       "        [ 0.9093,  0.0927,  0.0043],\n",
       "        [ 0.1411,  0.1388,  0.0065],\n",
       "        [-0.7568,  0.1846,  0.0086],\n",
       "        [-0.9589,  0.2300,  0.0108],\n",
       "        [-0.2794,  0.2749,  0.0129],\n",
       "        [ 0.6570,  0.3192,  0.0151],\n",
       "        [ 0.9894,  0.3629,  0.0172],\n",
       "        [ 0.4121,  0.4057,  0.0194]])"
      ]
     },
     "execution_count": 11,
     "metadata": {},
     "output_type": "execute_result"
    }
   ],
   "source": [
    "even_PE"
   ]
  },
  {
   "cell_type": "code",
   "execution_count": 12,
   "id": "e72225b7",
   "metadata": {},
   "outputs": [
    {
     "data": {
      "text/plain": [
       "tensor([[[ 0.0000,  1.0000],\n",
       "         [ 0.0000,  1.0000],\n",
       "         [ 0.0000,  1.0000]],\n",
       "\n",
       "        [[ 0.8415,  0.5403],\n",
       "         [ 0.0464,  0.9989],\n",
       "         [ 0.0022,  1.0000]],\n",
       "\n",
       "        [[ 0.9093, -0.4161],\n",
       "         [ 0.0927,  0.9957],\n",
       "         [ 0.0043,  1.0000]],\n",
       "\n",
       "        [[ 0.1411, -0.9900],\n",
       "         [ 0.1388,  0.9903],\n",
       "         [ 0.0065,  1.0000]],\n",
       "\n",
       "        [[-0.7568, -0.6536],\n",
       "         [ 0.1846,  0.9828],\n",
       "         [ 0.0086,  1.0000]],\n",
       "\n",
       "        [[-0.9589,  0.2837],\n",
       "         [ 0.2300,  0.9732],\n",
       "         [ 0.0108,  0.9999]],\n",
       "\n",
       "        [[-0.2794,  0.9602],\n",
       "         [ 0.2749,  0.9615],\n",
       "         [ 0.0129,  0.9999]],\n",
       "\n",
       "        [[ 0.6570,  0.7539],\n",
       "         [ 0.3192,  0.9477],\n",
       "         [ 0.0151,  0.9999]],\n",
       "\n",
       "        [[ 0.9894, -0.1455],\n",
       "         [ 0.3629,  0.9318],\n",
       "         [ 0.0172,  0.9999]],\n",
       "\n",
       "        [[ 0.4121, -0.9111],\n",
       "         [ 0.4057,  0.9140],\n",
       "         [ 0.0194,  0.9998]]])"
      ]
     },
     "execution_count": 12,
     "metadata": {},
     "output_type": "execute_result"
    }
   ],
   "source": [
    "# we want one of even then odd then even then odd, basically one after another each element wise, so we will stack them together\n",
    "stacked = torch.stack([even_PE,odd_PE],dim = 2)\n",
    "stacked"
   ]
  },
  {
   "cell_type": "code",
   "execution_count": 14,
   "id": "dd036e9b",
   "metadata": {},
   "outputs": [
    {
     "data": {
      "text/plain": [
       "torch.Size([10, 3, 2])"
      ]
     },
     "execution_count": 14,
     "metadata": {},
     "output_type": "execute_result"
    }
   ],
   "source": [
    "stacked.shape"
   ]
  },
  {
   "cell_type": "code",
   "execution_count": 15,
   "id": "9dd0389d",
   "metadata": {},
   "outputs": [
    {
     "data": {
      "text/plain": [
       "tensor([[ 0.0000,  1.0000,  0.0000,  1.0000,  0.0000,  1.0000],\n",
       "        [ 0.8415,  0.5403,  0.0464,  0.9989,  0.0022,  1.0000],\n",
       "        [ 0.9093, -0.4161,  0.0927,  0.9957,  0.0043,  1.0000],\n",
       "        [ 0.1411, -0.9900,  0.1388,  0.9903,  0.0065,  1.0000],\n",
       "        [-0.7568, -0.6536,  0.1846,  0.9828,  0.0086,  1.0000],\n",
       "        [-0.9589,  0.2837,  0.2300,  0.9732,  0.0108,  0.9999],\n",
       "        [-0.2794,  0.9602,  0.2749,  0.9615,  0.0129,  0.9999],\n",
       "        [ 0.6570,  0.7539,  0.3192,  0.9477,  0.0151,  0.9999],\n",
       "        [ 0.9894, -0.1455,  0.3629,  0.9318,  0.0172,  0.9999],\n",
       "        [ 0.4121, -0.9111,  0.4057,  0.9140,  0.0194,  0.9998]])"
      ]
     },
     "execution_count": 15,
     "metadata": {},
     "output_type": "execute_result"
    }
   ],
   "source": [
    "PE = torch.flatten(stacked,start_dim = 1,end_dim = 2)\n",
    "PE"
   ]
  },
  {
   "cell_type": "code",
   "execution_count": 16,
   "id": "76c50a80",
   "metadata": {},
   "outputs": [],
   "source": [
    "# all in one \n",
    "import torch\n",
    "import torch.nn as nn\n",
    "\n",
    "class PositionalEncoding(nn.Module):\n",
    "    def __init__(self,d_model,max_sequence_length):\n",
    "        self.d_model = d_model\n",
    "        self.max_sequence_length = max_sequence_length\n",
    "    def forward(self):\n",
    "        even_i = torch.arange(0,self.d_model,2).float()\n",
    "        denominater = torch.pow(10000,even_i/self.d_model)\n",
    "        position = torch.arange(self.max_sequence_length).reshape(self.max_sequence_length,1)\n",
    "        even_PE = torch.sin(position/denominater)\n",
    "        odd_PE = torch.cos(position/denominater)\n",
    "        stacked = torch.stack([even_PE,odd_PE],dim = 2)\n",
    "        PE = torch.flatten(stacked,start_dim=1,end_dim=2)\n",
    "        return PE"
   ]
  },
  {
   "cell_type": "code",
   "execution_count": 18,
   "id": "2d9264f7",
   "metadata": {},
   "outputs": [
    {
     "data": {
      "text/plain": [
       "tensor([[ 0.0000,  1.0000,  0.0000,  1.0000,  0.0000,  1.0000],\n",
       "        [ 0.8415,  0.5403,  0.0464,  0.9989,  0.0022,  1.0000],\n",
       "        [ 0.9093, -0.4161,  0.0927,  0.9957,  0.0043,  1.0000],\n",
       "        [ 0.1411, -0.9900,  0.1388,  0.9903,  0.0065,  1.0000],\n",
       "        [-0.7568, -0.6536,  0.1846,  0.9828,  0.0086,  1.0000],\n",
       "        [-0.9589,  0.2837,  0.2300,  0.9732,  0.0108,  0.9999],\n",
       "        [-0.2794,  0.9602,  0.2749,  0.9615,  0.0129,  0.9999],\n",
       "        [ 0.6570,  0.7539,  0.3192,  0.9477,  0.0151,  0.9999],\n",
       "        [ 0.9894, -0.1455,  0.3629,  0.9318,  0.0172,  0.9999],\n",
       "        [ 0.4121, -0.9111,  0.4057,  0.9140,  0.0194,  0.9998]])"
      ]
     },
     "execution_count": 18,
     "metadata": {},
     "output_type": "execute_result"
    }
   ],
   "source": [
    "pe = PositionalEncoding(d_model = 6,max_sequence_length= 10)\n",
    "pe.forward()"
   ]
  },
  {
   "cell_type": "markdown",
   "id": "876eb12a",
   "metadata": {},
   "source": [
    "## Layer Normalisation "
   ]
  },
  {
   "cell_type": "code",
   "execution_count": 19,
   "id": "356100d3",
   "metadata": {},
   "outputs": [],
   "source": [
    "import torch \n",
    "import torch.nn as nn\n"
   ]
  },
  {
   "cell_type": "code",
   "execution_count": 21,
   "id": "7f093b51",
   "metadata": {},
   "outputs": [
    {
     "data": {
      "text/plain": [
       "torch.Size([2, 1, 3])"
      ]
     },
     "execution_count": 21,
     "metadata": {},
     "output_type": "execute_result"
    }
   ],
   "source": [
    "input = torch.Tensor([[[0.2,0.1,0.3],[0.5,0.1,0.1]]]) # i also solved for this in notebook \n",
    "B , S ,E = input.size()\n",
    "input = input.reshape(S , B , E)\n",
    "input.size()"
   ]
  },
  {
   "cell_type": "code",
   "execution_count": 23,
   "id": "36e7349f",
   "metadata": {},
   "outputs": [],
   "source": [
    "parameter_shape = input.size()[-2:]\n",
    "gama = nn.Parameter(torch.ones(parameter_shape))\n",
    "beta = nn.Parameter(torch.zeros(parameter_shape))"
   ]
  },
  {
   "cell_type": "code",
   "execution_count": 24,
   "id": "e4636026",
   "metadata": {},
   "outputs": [
    {
     "data": {
      "text/plain": [
       "(torch.Size([1, 3]), torch.Size([1, 3]))"
      ]
     },
     "execution_count": 24,
     "metadata": {},
     "output_type": "execute_result"
    }
   ],
   "source": [
    "gama.size(),beta.size()"
   ]
  },
  {
   "cell_type": "code",
   "execution_count": 25,
   "id": "021a5fa7",
   "metadata": {},
   "outputs": [
    {
     "data": {
      "text/plain": [
       "[-1, -2]"
      ]
     },
     "execution_count": 25,
     "metadata": {},
     "output_type": "execute_result"
    }
   ],
   "source": [
    "dim = [-(i + 1) for i in range (len(parameter_shape))]\n",
    "dim"
   ]
  },
  {
   "cell_type": "code",
   "execution_count": 26,
   "id": "6e044743",
   "metadata": {},
   "outputs": [
    {
     "data": {
      "text/plain": [
       "torch.Size([2, 1, 1])"
      ]
     },
     "execution_count": 26,
     "metadata": {},
     "output_type": "execute_result"
    }
   ],
   "source": [
    "mean = input.mean(dim = dim,keepdim = True )\n",
    "mean.size()"
   ]
  },
  {
   "cell_type": "code",
   "execution_count": 27,
   "id": "e6cb080a",
   "metadata": {},
   "outputs": [
    {
     "data": {
      "text/plain": [
       "tensor([[[0.2000]],\n",
       "\n",
       "        [[0.2333]]])"
      ]
     },
     "execution_count": 27,
     "metadata": {},
     "output_type": "execute_result"
    }
   ],
   "source": [
    "mean"
   ]
  },
  {
   "cell_type": "code",
   "execution_count": 28,
   "id": "6e1034fb",
   "metadata": {},
   "outputs": [
    {
     "data": {
      "text/plain": [
       "tensor([[[0.0817]],\n",
       "\n",
       "        [[0.1886]]])"
      ]
     },
     "execution_count": 28,
     "metadata": {},
     "output_type": "execute_result"
    }
   ],
   "source": [
    "var = ((input - mean)**2).mean(dim = dim ,keepdim = True)\n",
    "epsilon = 1e-5 # to make sure denomenator not become zero\n",
    "sd = (var + epsilon).sqrt()\n",
    "sd"
   ]
  },
  {
   "cell_type": "code",
   "execution_count": 29,
   "id": "3795191e",
   "metadata": {},
   "outputs": [
    {
     "data": {
      "text/plain": [
       "tensor([[[ 0.0000, -1.2238,  1.2238]],\n",
       "\n",
       "        [[ 1.4140, -0.7070, -0.7070]]])"
      ]
     },
     "execution_count": 29,
     "metadata": {},
     "output_type": "execute_result"
    }
   ],
   "source": [
    "y = (input - mean)/sd\n",
    "y"
   ]
  },
  {
   "cell_type": "code",
   "execution_count": 30,
   "id": "905f5223",
   "metadata": {},
   "outputs": [],
   "source": [
    "out = gama*y + beta"
   ]
  },
  {
   "cell_type": "code",
   "execution_count": 31,
   "id": "b972cf6e",
   "metadata": {},
   "outputs": [
    {
     "data": {
      "text/plain": [
       "tensor([[[ 0.0000, -1.2238,  1.2238]],\n",
       "\n",
       "        [[ 1.4140, -0.7070, -0.7070]]], grad_fn=<AddBackward0>)"
      ]
     },
     "execution_count": 31,
     "metadata": {},
     "output_type": "execute_result"
    }
   ],
   "source": [
    "out"
   ]
  },
  {
   "cell_type": "code",
   "execution_count": 51,
   "id": "685d6c9c",
   "metadata": {},
   "outputs": [],
   "source": [
    "# all in one function \n",
    "import torch \n",
    "import torch.nn as nn\n",
    "class LayerNormalization():\n",
    "    def __init__(self,parameter_shape,eps = 1e-5):\n",
    "        self.parameter_shape = parameter_shape\n",
    "        self.eps = eps\n",
    "        self.gama  = nn.Parameter(torch.ones(parameter_shape))\n",
    "        self.beta = nn.Parameter(torch.zeros(parameter_shape))\n",
    "        \n",
    "    def forward(self,input):\n",
    "        dims =[-(i + 1) for i in range(len(self.parameter_shape))]\n",
    "        mean = input.mean(dim = dims,keepdim = True)\n",
    "        print(f\"Mean \\n ({mean.size()}):\\n{mean}\")\n",
    "        var = ((mean - input)**2).mean(dim = dims,keepdim = True)\n",
    "        sd = (var+self.eps).sqrt()\n",
    "        print(f\"Standard deviation \\n ({sd.size()}):\\n{sd}\")\n",
    "        y = (input - mean)/sd\n",
    "        print(f\"Y is\\n ({y.size()}):\\n{y}\")\n",
    "        out = self.gama*y + self.beta\n",
    "        print(f\"output is \\n ({out.size()}):\\n{out}\")\n",
    "        return out"
   ]
  },
  {
   "cell_type": "code",
   "execution_count": 52,
   "id": "89065a97",
   "metadata": {},
   "outputs": [
    {
     "data": {
      "text/plain": [
       "tensor([[[ 2.0412, -0.4171, -0.5486, -0.6604, -1.5547, -0.0984, -1.4059,\n",
       "           0.4434],\n",
       "         [-0.8814,  0.2772, -1.0927,  0.2701, -0.3915, -0.6272, -0.8487,\n",
       "          -1.1136],\n",
       "         [-0.0986, -3.0718, -1.6020, -0.0031, -1.6047, -1.4795, -2.1844,\n",
       "          -0.8256]],\n",
       "\n",
       "        [[-0.0399, -1.2680,  2.6731,  0.5363,  0.3631,  0.3054, -0.2902,\n",
       "          -0.6809],\n",
       "         [ 2.0745, -0.9655,  0.6853, -2.1413, -2.5062, -1.1695, -1.2616,\n",
       "           0.7377],\n",
       "         [ 2.2784, -0.2981, -0.0684,  0.6568,  0.6443, -0.0178, -0.1282,\n",
       "          -0.0085]],\n",
       "\n",
       "        [[ 1.8591,  0.4652,  0.2847,  1.4876, -0.0999, -1.0290,  1.4670,\n",
       "           0.7975],\n",
       "         [-0.0742, -0.7361,  0.5062, -2.4072,  0.7936, -0.4741,  0.6434,\n",
       "           2.1187],\n",
       "         [ 1.3703, -0.4572, -2.8472,  1.8650, -0.0228,  0.8329, -1.1073,\n",
       "           0.8089]],\n",
       "\n",
       "        [[-1.7964,  0.7870, -0.4367,  0.5207,  0.6143,  1.3817, -1.4850,\n",
       "           1.0669],\n",
       "         [ 0.7788,  0.1254, -0.0780,  0.3956, -1.0753,  0.2234,  1.2369,\n",
       "           1.7227],\n",
       "         [-0.3989,  0.4943, -2.4244,  1.3109, -0.7994,  0.5947, -0.0936,\n",
       "           1.5487]],\n",
       "\n",
       "        [[ 0.1610, -0.2502, -0.7933, -0.9426,  1.1645, -1.3449,  1.9032,\n",
       "           0.0812],\n",
       "         [ 0.4981,  0.7494, -0.5412, -0.4854,  0.8815, -0.2384, -1.3931,\n",
       "           1.1486],\n",
       "         [-0.0333, -0.4323, -0.0110,  0.3643, -0.0114, -1.3287, -0.4930,\n",
       "          -1.7011]]])"
      ]
     },
     "execution_count": 52,
     "metadata": {},
     "output_type": "execute_result"
    }
   ],
   "source": [
    "input = torch.randn(5,3,8)\n",
    "input"
   ]
  },
  {
   "cell_type": "code",
   "execution_count": 53,
   "id": "34888279",
   "metadata": {},
   "outputs": [
    {
     "name": "stdout",
     "output_type": "stream",
     "text": [
      "Mean \n",
      " (torch.Size([5, 1, 1])):\n",
      "tensor([[[-0.7283]],\n",
      "\n",
      "        [[ 0.0046]],\n",
      "\n",
      "        [[ 0.2519]],\n",
      "\n",
      "        [[ 0.1756]],\n",
      "\n",
      "        [[-0.1270]]])\n",
      "Standard deviation \n",
      " (torch.Size([5, 1, 1])):\n",
      "tensor([[[0.9960]],\n",
      "\n",
      "        [[1.2254]],\n",
      "\n",
      "        [[1.2400]],\n",
      "\n",
      "        [[1.0624]],\n",
      "\n",
      "        [[0.8820]]])\n",
      "Y is\n",
      " (torch.Size([5, 3, 8])):\n",
      "tensor([[[ 2.7807,  0.3124,  0.1804,  0.0682, -0.8298,  0.6324, -0.6804,\n",
      "           1.1764],\n",
      "         [-0.1537,  1.0095, -0.3659,  1.0024,  0.3381,  0.1014, -0.1209,\n",
      "          -0.3870],\n",
      "         [ 0.6322, -2.3531, -0.8773,  0.7281, -0.8800, -0.7543, -1.4621,\n",
      "          -0.0977]],\n",
      "\n",
      "        [[-0.0363, -1.0385,  2.1776,  0.4339,  0.2926,  0.2455, -0.2406,\n",
      "          -0.5594],\n",
      "         [ 1.6892, -0.7917,  0.5555, -1.7512, -2.0490, -0.9582, -1.0333,\n",
      "           0.5983],\n",
      "         [ 1.8556, -0.2471, -0.0596,  0.5322,  0.5220, -0.0183, -0.1084,\n",
      "          -0.0107]],\n",
      "\n",
      "        [[ 1.2961,  0.1721,  0.0265,  0.9965, -0.2837, -1.0329,  0.9799,\n",
      "           0.4400],\n",
      "         [-0.2629, -0.7968,  0.2051, -2.1444,  0.4369, -0.5855,  0.3158,\n",
      "           1.5055],\n",
      "         [ 0.9020, -0.5718, -2.4992,  1.3009, -0.2215,  0.4685, -1.0961,\n",
      "           0.4492]],\n",
      "\n",
      "        [[-1.8562,  0.5755, -0.5764,  0.3248,  0.4130,  1.1353, -1.5631,\n",
      "           0.8390],\n",
      "         [ 0.5678, -0.0473, -0.2387,  0.2071, -1.1775,  0.0450,  0.9990,\n",
      "           1.4563],\n",
      "         [-0.5408,  0.3000, -2.4474,  1.0687, -0.9178,  0.3945, -0.2534,\n",
      "           1.2925]],\n",
      "\n",
      "        [[ 0.3265, -0.1397, -0.7555, -0.9247,  1.4644, -1.3809,  2.3019,\n",
      "           0.2361],\n",
      "         [ 0.7088,  0.9937, -0.4696, -0.4064,  1.1435, -0.1263, -1.4355,\n",
      "           1.4464],\n",
      "         [ 0.1062, -0.3462,  0.1316,  0.5571,  0.1311, -1.3626, -0.4150,\n",
      "          -1.7848]]])\n",
      "output is \n",
      " (torch.Size([5, 3, 8])):\n",
      "tensor([[[ 2.7807,  0.3124,  0.1804,  0.0682, -0.8298,  0.6324, -0.6804,\n",
      "           1.1764],\n",
      "         [-0.1537,  1.0095, -0.3659,  1.0024,  0.3381,  0.1014, -0.1209,\n",
      "          -0.3870],\n",
      "         [ 0.6322, -2.3531, -0.8773,  0.7281, -0.8800, -0.7543, -1.4621,\n",
      "          -0.0977]],\n",
      "\n",
      "        [[-0.0363, -1.0385,  2.1776,  0.4339,  0.2926,  0.2455, -0.2406,\n",
      "          -0.5594],\n",
      "         [ 1.6892, -0.7917,  0.5555, -1.7512, -2.0490, -0.9582, -1.0333,\n",
      "           0.5983],\n",
      "         [ 1.8556, -0.2471, -0.0596,  0.5322,  0.5220, -0.0183, -0.1084,\n",
      "          -0.0107]],\n",
      "\n",
      "        [[ 1.2961,  0.1721,  0.0265,  0.9965, -0.2837, -1.0329,  0.9799,\n",
      "           0.4400],\n",
      "         [-0.2629, -0.7968,  0.2051, -2.1444,  0.4369, -0.5855,  0.3158,\n",
      "           1.5055],\n",
      "         [ 0.9020, -0.5718, -2.4992,  1.3009, -0.2215,  0.4685, -1.0961,\n",
      "           0.4492]],\n",
      "\n",
      "        [[-1.8562,  0.5755, -0.5764,  0.3248,  0.4130,  1.1353, -1.5631,\n",
      "           0.8390],\n",
      "         [ 0.5678, -0.0473, -0.2387,  0.2071, -1.1775,  0.0450,  0.9990,\n",
      "           1.4563],\n",
      "         [-0.5408,  0.3000, -2.4474,  1.0687, -0.9178,  0.3945, -0.2534,\n",
      "           1.2925]],\n",
      "\n",
      "        [[ 0.3265, -0.1397, -0.7555, -0.9247,  1.4644, -1.3809,  2.3019,\n",
      "           0.2361],\n",
      "         [ 0.7088,  0.9937, -0.4696, -0.4064,  1.1435, -0.1263, -1.4355,\n",
      "           1.4464],\n",
      "         [ 0.1062, -0.3462,  0.1316,  0.5571,  0.1311, -1.3626, -0.4150,\n",
      "          -1.7848]]], grad_fn=<AddBackward0>)\n"
     ]
    }
   ],
   "source": [
    "layer = LayerNormalization(input.size()[-2:]) # we have for -2 last 2 dimension or 1 or more \n",
    "out = layer.forward(input)"
   ]
  },
  {
   "cell_type": "markdown",
   "id": "5d158545",
   "metadata": {},
   "source": [
    "##  Transformer Encoder"
   ]
  },
  {
   "cell_type": "code",
   "execution_count": 2,
   "id": "ebd3487e",
   "metadata": {},
   "outputs": [],
   "source": [
    "import torch\n",
    "import math\n",
    "from torch import nn\n",
    "import torch.nn.functional as F"
   ]
  },
  {
   "cell_type": "code",
   "execution_count": 3,
   "id": "90d4e24f",
   "metadata": {},
   "outputs": [],
   "source": [
    "\n",
    "def scaled_dot_product(q, k, v, mask=None):\n",
    "    d_k = q.size()[-1]\n",
    "    scaled = torch.matmul(q, k.transpose(-1, -2)) / math.sqrt(d_k)\n",
    "    print(f\"scaled.size() : {scaled.size()}\")\n",
    "    if mask is not None:\n",
    "        print(f\"-- ADDING MASK of shape {mask.size()} --\") \n",
    "        # Broadcasting add. So just the last N dimensions need to match\n",
    "        scaled += mask\n",
    "    attention = F.softmax(scaled, dim=-1)\n",
    "    values = torch.matmul(attention, v)\n",
    "    return values, attention\n"
   ]
  },
  {
   "cell_type": "code",
   "execution_count": 4,
   "id": "11679f70",
   "metadata": {},
   "outputs": [],
   "source": [
    "class MultiHeadAttention(nn.Module):\n",
    "\n",
    "    def __init__(self, d_model, num_heads):\n",
    "        super().__init__()\n",
    "        self.d_model = d_model\n",
    "        self.num_heads = num_heads\n",
    "        self.head_dim = d_model // num_heads\n",
    "        self.qkv_layer = nn.Linear(d_model , 3 * d_model)\n",
    "        self.linear_layer = nn.Linear(d_model, d_model)\n",
    "    \n",
    "    def forward(self, x, mask=None):\n",
    "        batch_size, max_sequence_length, d_model = x.size()\n",
    "        print(f\"x.size(): {x.size()}\")\n",
    "        qkv = self.qkv_layer(x)\n",
    "        print(f\"qkv.size(): {qkv.size()}\")\n",
    "        qkv = qkv.reshape(batch_size, max_sequence_length, self.num_heads, 3 * self.head_dim)\n",
    "        print(f\"qkv.size(): {qkv.size()}\")\n",
    "        qkv = qkv.permute(0, 2, 1, 3)\n",
    "        print(f\"qkv.size(): {qkv.size()}\")\n",
    "        q, k, v = qkv.chunk(3, dim=-1)\n",
    "        print(f\"q size: {q.size()}, k size: {k.size()}, v size: {v.size()}, \")\n",
    "        values, attention = scaled_dot_product(q, k, v, mask)\n",
    "        print(f\"values.size(): {values.size()}, attention.size:{ attention.size()} \")\n",
    "        values = values.reshape(batch_size, max_sequence_length, self.num_heads * self.head_dim)\n",
    "        print(f\"values.size(): {values.size()}\")\n",
    "        out = self.linear_layer(values)\n",
    "        print(f\"out.size(): {out.size()}\")\n",
    "        return out"
   ]
  },
  {
   "cell_type": "code",
   "execution_count": 5,
   "id": "a7e9d44c",
   "metadata": {},
   "outputs": [],
   "source": [
    "class LayerNormalization(nn.Module):\n",
    "    def __init__(self, parameters_shape, eps=1e-5):\n",
    "        super().__init__()\n",
    "        self.parameters_shape=parameters_shape\n",
    "        self.eps=eps\n",
    "        self.gamma = nn.Parameter(torch.ones(parameters_shape))\n",
    "        self.beta =  nn.Parameter(torch.zeros(parameters_shape))\n",
    "\n",
    "    def forward(self, inputs):\n",
    "        dims = [-(i + 1) for i in range(len(self.parameters_shape))]\n",
    "        mean = inputs.mean(dim=dims, keepdim=True)\n",
    "        print(f\"Mean ({mean.size()})\")\n",
    "        var = ((inputs - mean) ** 2).mean(dim=dims, keepdim=True)\n",
    "        std = (var + self.eps).sqrt()\n",
    "        print(f\"Standard Deviation  ({std.size()})\")\n",
    "        y = (inputs - mean) / std\n",
    "        print(f\"y: {y.size()}\")\n",
    "        out = self.gamma * y  + self.beta\n",
    "        print(f\"self.gamma: {self.gamma.size()}, self.beta: {self.beta.size()}\")\n",
    "        print(f\"out: {out.size()}\")\n",
    "        return out\n"
   ]
  },
  {
   "cell_type": "code",
   "execution_count": 6,
   "id": "c318956f",
   "metadata": {},
   "outputs": [],
   "source": [
    "class PositionwiseFeedForward(nn.Module):\n",
    "\n",
    "    def __init__(self, d_model, hidden, drop_prob=0.1):\n",
    "        super(PositionwiseFeedForward, self).__init__()\n",
    "        self.linear1 = nn.Linear(d_model, hidden)\n",
    "        self.linear2 = nn.Linear(hidden, d_model)\n",
    "        self.relu = nn.ReLU()\n",
    "        self.dropout = nn.Dropout(p=drop_prob)\n",
    "\n",
    "    def forward(self, x):\n",
    "        x = self.linear1(x)\n",
    "        print(f\"x after first linear layer: {x.size()}\")\n",
    "        x = self.relu(x)\n",
    "        print(f\"x after activation: {x.size()}\")\n",
    "        x = self.dropout(x)\n",
    "        print(f\"x after dropout: {x.size()}\")\n",
    "        x = self.linear2(x)\n",
    "        print(f\"x after 2nd linear layer: {x.size()}\")\n",
    "        return x"
   ]
  },
  {
   "cell_type": "code",
   "execution_count": 7,
   "id": "fbdcbb74",
   "metadata": {},
   "outputs": [],
   "source": [
    "class EncoderLayer(nn.Module):\n",
    "\n",
    "    def __init__(self, d_model, ffn_hidden, num_heads, drop_prob):\n",
    "        super(EncoderLayer, self).__init__()\n",
    "        self.attention = MultiHeadAttention(d_model = d_model, num_heads = num_heads)\n",
    "        self.norm1 = LayerNormalization(parameters_shape=[d_model])\n",
    "        self.dropout1 = nn.Dropout(p=drop_prob)\n",
    "        self.ffn = PositionwiseFeedForward(d_model = d_model, hidden = ffn_hidden, drop_prob=drop_prob)\n",
    "        self.norm2 = LayerNormalization(parameters_shape = [d_model])\n",
    "        self.dropout2 = nn.Dropout(p = drop_prob)\n",
    "\n",
    "    def forward(self, x):\n",
    "        residual_x = x\n",
    "        print(\"------- ATTENTION 1 ------\")\n",
    "        x = self.attention(x, mask = None) # for encoder we don't need it \n",
    "        print(\"------- DROPOUT 1 ------\")\n",
    "        x = self.dropout1(x)\n",
    "        print(\"------- ADD AND LAYER NORMALIZATION 1 ------\")\n",
    "        x = self.norm1(x + residual_x)\n",
    "        residual_x = x\n",
    "        print(\"------- ATTENTION 2 ------\")\n",
    "        x = self.ffn(x)\n",
    "        print(\"------- DROPOUT 2 ------\")\n",
    "        x = self.dropout2(x)\n",
    "        print(\"------- ADD AND LAYER NORMALIZATION 2 ------\")\n",
    "        x = self.norm2(x + residual_x)\n",
    "        return x\n",
    "\n",
    "class Encoder(nn.Module):\n",
    "    def __init__(self, d_model, ffn_hidden, num_heads, drop_prob, num_layers):\n",
    "        super().__init__()\n",
    "        self.layers = nn.Sequential(*[EncoderLayer(d_model, ffn_hidden, num_heads, drop_prob)\n",
    "                                     for _ in range(num_layers)])\n",
    "\n",
    "    def forward(self, x): #overriding module forward propogation\n",
    "        x = self.layers(x)\n",
    "        return x"
   ]
  },
  {
   "cell_type": "code",
   "execution_count": 8,
   "id": "8eeb0340",
   "metadata": {},
   "outputs": [],
   "source": [
    "d_model = 512 #size of every single vector throughout the encoder network\n",
    "num_head = 8 # multiheaded attention (parallel)\n",
    "drop_prob = 0.1\n",
    "batch_size = 30\n",
    "max_sequence_length = 200 # number of word we will be passing , if more than 200 it will take turn if less then it use padding token\n",
    "ffn_hidden = 2048 # feedforward layer\n",
    "num_layers = 5 \n",
    "\n",
    "encoder = Encoder(d_model,ffn_hidden,num_head,drop_prob,num_layers)"
   ]
  },
  {
   "cell_type": "code",
   "execution_count": 9,
   "id": "9412c43d",
   "metadata": {},
   "outputs": [
    {
     "name": "stdout",
     "output_type": "stream",
     "text": [
      "------- ATTENTION 1 ------\n",
      "x.size(): torch.Size([30, 200, 512])\n",
      "qkv.size(): torch.Size([30, 200, 1536])\n",
      "qkv.size(): torch.Size([30, 200, 8, 192])\n",
      "qkv.size(): torch.Size([30, 8, 200, 192])\n",
      "q size: torch.Size([30, 8, 200, 64]), k size: torch.Size([30, 8, 200, 64]), v size: torch.Size([30, 8, 200, 64]), \n",
      "scaled.size() : torch.Size([30, 8, 200, 200])\n",
      "values.size(): torch.Size([30, 8, 200, 64]), attention.size:torch.Size([30, 8, 200, 200]) \n",
      "values.size(): torch.Size([30, 200, 512])\n",
      "out.size(): torch.Size([30, 200, 512])\n",
      "------- DROPOUT 1 ------\n",
      "------- ADD AND LAYER NORMALIZATION 1 ------\n",
      "Mean (torch.Size([30, 200, 1]))\n",
      "Standard Deviation  (torch.Size([30, 200, 1]))\n",
      "y: torch.Size([30, 200, 512])\n",
      "self.gamma: torch.Size([512]), self.beta: torch.Size([512])\n",
      "out: torch.Size([30, 200, 512])\n",
      "------- ATTENTION 2 ------\n",
      "x after first linear layer: torch.Size([30, 200, 2048])\n",
      "x after activation: torch.Size([30, 200, 2048])\n",
      "x after dropout: torch.Size([30, 200, 2048])\n",
      "x after 2nd linear layer: torch.Size([30, 200, 512])\n",
      "------- DROPOUT 2 ------\n",
      "------- ADD AND LAYER NORMALIZATION 2 ------\n",
      "Mean (torch.Size([30, 200, 1]))\n",
      "Standard Deviation  (torch.Size([30, 200, 1]))\n",
      "y: torch.Size([30, 200, 512])\n",
      "self.gamma: torch.Size([512]), self.beta: torch.Size([512])\n",
      "out: torch.Size([30, 200, 512])\n",
      "------- ATTENTION 1 ------\n",
      "x.size(): torch.Size([30, 200, 512])\n",
      "qkv.size(): torch.Size([30, 200, 1536])\n",
      "qkv.size(): torch.Size([30, 200, 8, 192])\n",
      "qkv.size(): torch.Size([30, 8, 200, 192])\n",
      "q size: torch.Size([30, 8, 200, 64]), k size: torch.Size([30, 8, 200, 64]), v size: torch.Size([30, 8, 200, 64]), \n",
      "scaled.size() : torch.Size([30, 8, 200, 200])\n",
      "values.size(): torch.Size([30, 8, 200, 64]), attention.size:torch.Size([30, 8, 200, 200]) \n",
      "values.size(): torch.Size([30, 200, 512])\n",
      "out.size(): torch.Size([30, 200, 512])\n",
      "------- DROPOUT 1 ------\n",
      "------- ADD AND LAYER NORMALIZATION 1 ------\n",
      "Mean (torch.Size([30, 200, 1]))\n",
      "Standard Deviation  (torch.Size([30, 200, 1]))\n",
      "y: torch.Size([30, 200, 512])\n",
      "self.gamma: torch.Size([512]), self.beta: torch.Size([512])\n",
      "out: torch.Size([30, 200, 512])\n",
      "------- ATTENTION 2 ------\n",
      "x after first linear layer: torch.Size([30, 200, 2048])\n",
      "x after activation: torch.Size([30, 200, 2048])\n",
      "x after dropout: torch.Size([30, 200, 2048])\n",
      "x after 2nd linear layer: torch.Size([30, 200, 512])\n",
      "------- DROPOUT 2 ------\n",
      "------- ADD AND LAYER NORMALIZATION 2 ------\n",
      "Mean (torch.Size([30, 200, 1]))\n",
      "Standard Deviation  (torch.Size([30, 200, 1]))\n",
      "y: torch.Size([30, 200, 512])\n",
      "self.gamma: torch.Size([512]), self.beta: torch.Size([512])\n",
      "out: torch.Size([30, 200, 512])\n",
      "------- ATTENTION 1 ------\n",
      "x.size(): torch.Size([30, 200, 512])\n",
      "qkv.size(): torch.Size([30, 200, 1536])\n",
      "qkv.size(): torch.Size([30, 200, 8, 192])\n",
      "qkv.size(): torch.Size([30, 8, 200, 192])\n",
      "q size: torch.Size([30, 8, 200, 64]), k size: torch.Size([30, 8, 200, 64]), v size: torch.Size([30, 8, 200, 64]), \n",
      "scaled.size() : torch.Size([30, 8, 200, 200])\n",
      "values.size(): torch.Size([30, 8, 200, 64]), attention.size:torch.Size([30, 8, 200, 200]) \n",
      "values.size(): torch.Size([30, 200, 512])\n",
      "out.size(): torch.Size([30, 200, 512])\n",
      "------- DROPOUT 1 ------\n",
      "------- ADD AND LAYER NORMALIZATION 1 ------\n",
      "Mean (torch.Size([30, 200, 1]))\n",
      "Standard Deviation  (torch.Size([30, 200, 1]))\n",
      "y: torch.Size([30, 200, 512])\n",
      "self.gamma: torch.Size([512]), self.beta: torch.Size([512])\n",
      "out: torch.Size([30, 200, 512])\n",
      "------- ATTENTION 2 ------\n",
      "x after first linear layer: torch.Size([30, 200, 2048])\n",
      "x after activation: torch.Size([30, 200, 2048])\n",
      "x after dropout: torch.Size([30, 200, 2048])\n",
      "x after 2nd linear layer: torch.Size([30, 200, 512])\n",
      "------- DROPOUT 2 ------\n",
      "------- ADD AND LAYER NORMALIZATION 2 ------\n",
      "Mean (torch.Size([30, 200, 1]))\n",
      "Standard Deviation  (torch.Size([30, 200, 1]))\n",
      "y: torch.Size([30, 200, 512])\n",
      "self.gamma: torch.Size([512]), self.beta: torch.Size([512])\n",
      "out: torch.Size([30, 200, 512])\n",
      "------- ATTENTION 1 ------\n",
      "x.size(): torch.Size([30, 200, 512])\n",
      "qkv.size(): torch.Size([30, 200, 1536])\n",
      "qkv.size(): torch.Size([30, 200, 8, 192])\n",
      "qkv.size(): torch.Size([30, 8, 200, 192])\n",
      "q size: torch.Size([30, 8, 200, 64]), k size: torch.Size([30, 8, 200, 64]), v size: torch.Size([30, 8, 200, 64]), \n",
      "scaled.size() : torch.Size([30, 8, 200, 200])\n",
      "values.size(): torch.Size([30, 8, 200, 64]), attention.size:torch.Size([30, 8, 200, 200]) \n",
      "values.size(): torch.Size([30, 200, 512])\n",
      "out.size(): torch.Size([30, 200, 512])\n",
      "------- DROPOUT 1 ------\n",
      "------- ADD AND LAYER NORMALIZATION 1 ------\n",
      "Mean (torch.Size([30, 200, 1]))\n",
      "Standard Deviation  (torch.Size([30, 200, 1]))\n",
      "y: torch.Size([30, 200, 512])\n",
      "self.gamma: torch.Size([512]), self.beta: torch.Size([512])\n",
      "out: torch.Size([30, 200, 512])\n",
      "------- ATTENTION 2 ------\n",
      "x after first linear layer: torch.Size([30, 200, 2048])\n",
      "x after activation: torch.Size([30, 200, 2048])\n",
      "x after dropout: torch.Size([30, 200, 2048])\n",
      "x after 2nd linear layer: torch.Size([30, 200, 512])\n",
      "------- DROPOUT 2 ------\n",
      "------- ADD AND LAYER NORMALIZATION 2 ------\n",
      "Mean (torch.Size([30, 200, 1]))\n",
      "Standard Deviation  (torch.Size([30, 200, 1]))\n",
      "y: torch.Size([30, 200, 512])\n",
      "self.gamma: torch.Size([512]), self.beta: torch.Size([512])\n",
      "out: torch.Size([30, 200, 512])\n",
      "------- ATTENTION 1 ------\n",
      "x.size(): torch.Size([30, 200, 512])\n",
      "qkv.size(): torch.Size([30, 200, 1536])\n",
      "qkv.size(): torch.Size([30, 200, 8, 192])\n",
      "qkv.size(): torch.Size([30, 8, 200, 192])\n",
      "q size: torch.Size([30, 8, 200, 64]), k size: torch.Size([30, 8, 200, 64]), v size: torch.Size([30, 8, 200, 64]), \n",
      "scaled.size() : torch.Size([30, 8, 200, 200])\n",
      "values.size(): torch.Size([30, 8, 200, 64]), attention.size:torch.Size([30, 8, 200, 200]) \n",
      "values.size(): torch.Size([30, 200, 512])\n",
      "out.size(): torch.Size([30, 200, 512])\n",
      "------- DROPOUT 1 ------\n",
      "------- ADD AND LAYER NORMALIZATION 1 ------\n",
      "Mean (torch.Size([30, 200, 1]))\n",
      "Standard Deviation  (torch.Size([30, 200, 1]))\n",
      "y: torch.Size([30, 200, 512])\n",
      "self.gamma: torch.Size([512]), self.beta: torch.Size([512])\n",
      "out: torch.Size([30, 200, 512])\n",
      "------- ATTENTION 2 ------\n",
      "x after first linear layer: torch.Size([30, 200, 2048])\n",
      "x after activation: torch.Size([30, 200, 2048])\n",
      "x after dropout: torch.Size([30, 200, 2048])\n",
      "x after 2nd linear layer: torch.Size([30, 200, 512])\n",
      "------- DROPOUT 2 ------\n",
      "------- ADD AND LAYER NORMALIZATION 2 ------\n",
      "Mean (torch.Size([30, 200, 1]))\n",
      "Standard Deviation  (torch.Size([30, 200, 1]))\n",
      "y: torch.Size([30, 200, 512])\n",
      "self.gamma: torch.Size([512]), self.beta: torch.Size([512])\n",
      "out: torch.Size([30, 200, 512])\n"
     ]
    }
   ],
   "source": [
    "x = torch.randn( (batch_size, max_sequence_length, d_model) ) # includes positional encoding\n",
    "out = encoder(x)"
   ]
  },
  {
   "cell_type": "markdown",
   "id": "428e3cf2",
   "metadata": {},
   "source": [
    "## Transformer Decoder "
   ]
  },
  {
   "cell_type": "code",
   "execution_count": 11,
   "id": "fdde22e8",
   "metadata": {},
   "outputs": [],
   "source": [
    "# mulithead cross attention take kv from encoder\n",
    "class MultiHeadCrossAttention(nn.Module):\n",
    "\n",
    "    def __init__(self, d_model, num_heads):\n",
    "        super().__init__()\n",
    "        self.d_model = d_model\n",
    "        self.num_heads = num_heads\n",
    "        self.head_dim = d_model // num_heads\n",
    "        self.kv_layer = nn.Linear(d_model , 2 * d_model) \n",
    "        self.q_layer = nn.Linear(d_model , d_model)\n",
    "        self.linear_layer = nn.Linear(d_model, d_model)\n",
    "    \n",
    "    def forward(self, x, y, mask=None):\n",
    "        batch_size, sequence_length, d_model = x.size() \n",
    "        print(f\"x.size(): {x.size()}\")\n",
    "        \n",
    "        kv = self.kv_layer(x) \n",
    "        print(f\"kv.size(): {kv.size()}\")\n",
    "        \n",
    "        q = self.q_layer(y)  \n",
    "        print(f\"q.size(): {q.size()}\")\n",
    "        \n",
    "        kv = kv.reshape(batch_size, sequence_length, self.num_heads, 2 * self.head_dim)   \n",
    "        q = q.reshape(batch_size, sequence_length, self.num_heads, self.head_dim)   \n",
    "        kv = kv.permute(0, 2, 1, 3)  \n",
    "        q = q.permute(0, 2, 1, 3)  \n",
    "        k, v = kv.chunk(2, dim=-1)  \n",
    "        \n",
    "        values, attention = scaled_dot_product(q, k, v, mask) \n",
    "        print(f\"values: {values.size()}, attention:{attention.size()}\")\n",
    "        values = values.reshape(batch_size, sequence_length, d_model) \n",
    "        out = self.linear_layer(values)   \n",
    "        print(f\"out after passing through linear layer: {out.size()}\")\n",
    "        \n",
    "        return out   \n",
    "    "
   ]
  },
  {
   "cell_type": "code",
   "execution_count": 12,
   "id": "1f9fa730",
   "metadata": {},
   "outputs": [],
   "source": [
    "class DecoderLayer(nn.Module):\n",
    "\n",
    "    def __init__(self, d_model, ffn_hidden, num_heads, drop_prob):\n",
    "        super(DecoderLayer, self).__init__()\n",
    "        self.self_attention = MultiHeadAttention(d_model=d_model, num_heads=num_heads)\n",
    "        self.norm1 = LayerNormalization(parameters_shape=[d_model])\n",
    "        self.dropout1 = nn.Dropout(p=drop_prob)\n",
    "        self.encoder_decoder_attention = MultiHeadCrossAttention(d_model=d_model, num_heads=num_heads)\n",
    "        self.norm2 = LayerNormalization(parameters_shape=[d_model])\n",
    "        self.dropout2 = nn.Dropout(p=drop_prob)\n",
    "        self.ffn = PositionwiseFeedForward(d_model=d_model, hidden=ffn_hidden, drop_prob=drop_prob)\n",
    "        self.norm3 = LayerNormalization(parameters_shape=[d_model])\n",
    "        self.dropout3 = nn.Dropout(p=drop_prob)\n",
    "\n",
    "    def forward(self, x, y, decoder_mask):\n",
    "        _y = y  \n",
    "        print(\"MASKED SELF ATTENTION\")\n",
    "        y = self.self_attention(y, mask=decoder_mask)  \n",
    "        print(\"DROP OUT 1\")\n",
    "        y = self.dropout1(y) \n",
    "        print(\"ADD + LAYER NORMALIZATION 1\")\n",
    "        y = self.norm1(y + _y) \n",
    "\n",
    "        _y = y \n",
    "        print(\"CROSS ATTENTION\")\n",
    "        y = self.encoder_decoder_attention(x, y, mask=None)  \n",
    "        print(\"DROP OUT 2\")  \n",
    "        y = self.dropout2(y)\n",
    "        print(\"ADD + LAYER NORMALIZATION 2\")\n",
    "        y = self.norm2(y + _y)   \n",
    "\n",
    "        _y = y   \n",
    "        print(\"FEED FORWARD 1\")\n",
    "        y = self.ffn(y)  \n",
    "        print(\"DROP OUT 3\")\n",
    "        y = self.dropout3(y) \n",
    "        print(\"ADD + LAYER NORMALIZATION 3\")\n",
    "        y = self.norm3(y + _y)  \n",
    "        return y  "
   ]
  },
  {
   "cell_type": "code",
   "execution_count": 13,
   "id": "88098dab",
   "metadata": {},
   "outputs": [],
   "source": [
    "class SequentialDecoder(nn.Sequential):\n",
    "    def forward(self, *inputs):\n",
    "        x, y, mask = inputs\n",
    "        for module in self._modules.values():\n",
    "            y = module(x, y, mask)  \n",
    "        return y\n",
    "\n",
    "class Decoder(nn.Module):\n",
    "    def __init__(self, d_model, ffn_hidden, num_heads, drop_prob, num_layers=1):\n",
    "        super().__init__()\n",
    "        self.layers = SequentialDecoder(*[DecoderLayer(d_model, ffn_hidden, num_heads, drop_prob) \n",
    "                                          for _ in range(num_layers)])\n",
    "\n",
    "    def forward(self, x, y, mask):\n",
    "\n",
    "        y = self.layers(x, y, mask)\n",
    "        return y "
   ]
  },
  {
   "cell_type": "code",
   "execution_count": 14,
   "id": "dbc120c1",
   "metadata": {},
   "outputs": [
    {
     "name": "stdout",
     "output_type": "stream",
     "text": [
      "MASKED SELF ATTENTION\n",
      "x.size(): torch.Size([30, 200, 512])\n",
      "qkv.size(): torch.Size([30, 200, 1536])\n",
      "qkv.size(): torch.Size([30, 200, 8, 192])\n",
      "qkv.size(): torch.Size([30, 8, 200, 192])\n",
      "q size: torch.Size([30, 8, 200, 64]), k size: torch.Size([30, 8, 200, 64]), v size: torch.Size([30, 8, 200, 64]), \n",
      "scaled.size() : torch.Size([30, 8, 200, 200])\n",
      "-- ADDING MASK of shape torch.Size([200, 200]) --\n",
      "values.size(): torch.Size([30, 8, 200, 64]), attention.size:torch.Size([30, 8, 200, 200]) \n",
      "values.size(): torch.Size([30, 200, 512])\n",
      "out.size(): torch.Size([30, 200, 512])\n",
      "DROP OUT 1\n",
      "ADD + LAYER NORMALIZATION 1\n",
      "Mean (torch.Size([30, 200, 1]))\n",
      "Standard Deviation  (torch.Size([30, 200, 1]))\n",
      "y: torch.Size([30, 200, 512])\n",
      "self.gamma: torch.Size([512]), self.beta: torch.Size([512])\n",
      "out: torch.Size([30, 200, 512])\n",
      "CROSS ATTENTION\n",
      "x.size(): torch.Size([30, 200, 512])\n",
      "kv.size(): torch.Size([30, 200, 1024])\n",
      "q.size(): torch.Size([30, 200, 512])\n",
      "scaled.size() : torch.Size([30, 8, 200, 200])\n",
      "values: torch.Size([30, 8, 200, 64]), attention:torch.Size([30, 8, 200, 200])\n",
      "out after passing through linear layer: torch.Size([30, 200, 512])\n",
      "DROP OUT 2\n",
      "ADD + LAYER NORMALIZATION 2\n",
      "Mean (torch.Size([30, 200, 1]))\n",
      "Standard Deviation  (torch.Size([30, 200, 1]))\n",
      "y: torch.Size([30, 200, 512])\n",
      "self.gamma: torch.Size([512]), self.beta: torch.Size([512])\n",
      "out: torch.Size([30, 200, 512])\n",
      "FEED FORWARD 1\n",
      "x after first linear layer: torch.Size([30, 200, 2048])\n",
      "x after activation: torch.Size([30, 200, 2048])\n",
      "x after dropout: torch.Size([30, 200, 2048])\n",
      "x after 2nd linear layer: torch.Size([30, 200, 512])\n",
      "DROP OUT 3\n",
      "ADD + LAYER NORMALIZATION 3\n",
      "Mean (torch.Size([30, 200, 1]))\n",
      "Standard Deviation  (torch.Size([30, 200, 1]))\n",
      "y: torch.Size([30, 200, 512])\n",
      "self.gamma: torch.Size([512]), self.beta: torch.Size([512])\n",
      "out: torch.Size([30, 200, 512])\n",
      "MASKED SELF ATTENTION\n",
      "x.size(): torch.Size([30, 200, 512])\n",
      "qkv.size(): torch.Size([30, 200, 1536])\n",
      "qkv.size(): torch.Size([30, 200, 8, 192])\n",
      "qkv.size(): torch.Size([30, 8, 200, 192])\n",
      "q size: torch.Size([30, 8, 200, 64]), k size: torch.Size([30, 8, 200, 64]), v size: torch.Size([30, 8, 200, 64]), \n",
      "scaled.size() : torch.Size([30, 8, 200, 200])\n",
      "-- ADDING MASK of shape torch.Size([200, 200]) --\n",
      "values.size(): torch.Size([30, 8, 200, 64]), attention.size:torch.Size([30, 8, 200, 200]) \n",
      "values.size(): torch.Size([30, 200, 512])\n",
      "out.size(): torch.Size([30, 200, 512])\n",
      "DROP OUT 1\n",
      "ADD + LAYER NORMALIZATION 1\n",
      "Mean (torch.Size([30, 200, 1]))\n",
      "Standard Deviation  (torch.Size([30, 200, 1]))\n",
      "y: torch.Size([30, 200, 512])\n",
      "self.gamma: torch.Size([512]), self.beta: torch.Size([512])\n",
      "out: torch.Size([30, 200, 512])\n",
      "CROSS ATTENTION\n",
      "x.size(): torch.Size([30, 200, 512])\n",
      "kv.size(): torch.Size([30, 200, 1024])\n",
      "q.size(): torch.Size([30, 200, 512])\n",
      "scaled.size() : torch.Size([30, 8, 200, 200])\n",
      "values: torch.Size([30, 8, 200, 64]), attention:torch.Size([30, 8, 200, 200])\n",
      "out after passing through linear layer: torch.Size([30, 200, 512])\n",
      "DROP OUT 2\n",
      "ADD + LAYER NORMALIZATION 2\n",
      "Mean (torch.Size([30, 200, 1]))\n",
      "Standard Deviation  (torch.Size([30, 200, 1]))\n",
      "y: torch.Size([30, 200, 512])\n",
      "self.gamma: torch.Size([512]), self.beta: torch.Size([512])\n",
      "out: torch.Size([30, 200, 512])\n",
      "FEED FORWARD 1\n",
      "x after first linear layer: torch.Size([30, 200, 2048])\n",
      "x after activation: torch.Size([30, 200, 2048])\n",
      "x after dropout: torch.Size([30, 200, 2048])\n",
      "x after 2nd linear layer: torch.Size([30, 200, 512])\n",
      "DROP OUT 3\n",
      "ADD + LAYER NORMALIZATION 3\n",
      "Mean (torch.Size([30, 200, 1]))\n",
      "Standard Deviation  (torch.Size([30, 200, 1]))\n",
      "y: torch.Size([30, 200, 512])\n",
      "self.gamma: torch.Size([512]), self.beta: torch.Size([512])\n",
      "out: torch.Size([30, 200, 512])\n",
      "MASKED SELF ATTENTION\n",
      "x.size(): torch.Size([30, 200, 512])\n",
      "qkv.size(): torch.Size([30, 200, 1536])\n",
      "qkv.size(): torch.Size([30, 200, 8, 192])\n",
      "qkv.size(): torch.Size([30, 8, 200, 192])\n",
      "q size: torch.Size([30, 8, 200, 64]), k size: torch.Size([30, 8, 200, 64]), v size: torch.Size([30, 8, 200, 64]), \n",
      "scaled.size() : torch.Size([30, 8, 200, 200])\n",
      "-- ADDING MASK of shape torch.Size([200, 200]) --\n",
      "values.size(): torch.Size([30, 8, 200, 64]), attention.size:torch.Size([30, 8, 200, 200]) \n",
      "values.size(): torch.Size([30, 200, 512])\n",
      "out.size(): torch.Size([30, 200, 512])\n",
      "DROP OUT 1\n",
      "ADD + LAYER NORMALIZATION 1\n",
      "Mean (torch.Size([30, 200, 1]))\n",
      "Standard Deviation  (torch.Size([30, 200, 1]))\n",
      "y: torch.Size([30, 200, 512])\n",
      "self.gamma: torch.Size([512]), self.beta: torch.Size([512])\n",
      "out: torch.Size([30, 200, 512])\n",
      "CROSS ATTENTION\n",
      "x.size(): torch.Size([30, 200, 512])\n",
      "kv.size(): torch.Size([30, 200, 1024])\n",
      "q.size(): torch.Size([30, 200, 512])\n",
      "scaled.size() : torch.Size([30, 8, 200, 200])\n",
      "values: torch.Size([30, 8, 200, 64]), attention:torch.Size([30, 8, 200, 200])\n",
      "out after passing through linear layer: torch.Size([30, 200, 512])\n",
      "DROP OUT 2\n",
      "ADD + LAYER NORMALIZATION 2\n",
      "Mean (torch.Size([30, 200, 1]))\n",
      "Standard Deviation  (torch.Size([30, 200, 1]))\n",
      "y: torch.Size([30, 200, 512])\n",
      "self.gamma: torch.Size([512]), self.beta: torch.Size([512])\n",
      "out: torch.Size([30, 200, 512])\n",
      "FEED FORWARD 1\n",
      "x after first linear layer: torch.Size([30, 200, 2048])\n",
      "x after activation: torch.Size([30, 200, 2048])\n",
      "x after dropout: torch.Size([30, 200, 2048])\n",
      "x after 2nd linear layer: torch.Size([30, 200, 512])\n",
      "DROP OUT 3\n",
      "ADD + LAYER NORMALIZATION 3\n",
      "Mean (torch.Size([30, 200, 1]))\n",
      "Standard Deviation  (torch.Size([30, 200, 1]))\n",
      "y: torch.Size([30, 200, 512])\n",
      "self.gamma: torch.Size([512]), self.beta: torch.Size([512])\n",
      "out: torch.Size([30, 200, 512])\n",
      "MASKED SELF ATTENTION\n",
      "x.size(): torch.Size([30, 200, 512])\n",
      "qkv.size(): torch.Size([30, 200, 1536])\n",
      "qkv.size(): torch.Size([30, 200, 8, 192])\n",
      "qkv.size(): torch.Size([30, 8, 200, 192])\n",
      "q size: torch.Size([30, 8, 200, 64]), k size: torch.Size([30, 8, 200, 64]), v size: torch.Size([30, 8, 200, 64]), \n",
      "scaled.size() : torch.Size([30, 8, 200, 200])\n",
      "-- ADDING MASK of shape torch.Size([200, 200]) --\n",
      "values.size(): torch.Size([30, 8, 200, 64]), attention.size:torch.Size([30, 8, 200, 200]) \n",
      "values.size(): torch.Size([30, 200, 512])\n",
      "out.size(): torch.Size([30, 200, 512])\n",
      "DROP OUT 1\n",
      "ADD + LAYER NORMALIZATION 1\n",
      "Mean (torch.Size([30, 200, 1]))\n",
      "Standard Deviation  (torch.Size([30, 200, 1]))\n",
      "y: torch.Size([30, 200, 512])\n",
      "self.gamma: torch.Size([512]), self.beta: torch.Size([512])\n",
      "out: torch.Size([30, 200, 512])\n",
      "CROSS ATTENTION\n",
      "x.size(): torch.Size([30, 200, 512])\n",
      "kv.size(): torch.Size([30, 200, 1024])\n",
      "q.size(): torch.Size([30, 200, 512])\n",
      "scaled.size() : torch.Size([30, 8, 200, 200])\n",
      "values: torch.Size([30, 8, 200, 64]), attention:torch.Size([30, 8, 200, 200])\n",
      "out after passing through linear layer: torch.Size([30, 200, 512])\n",
      "DROP OUT 2\n",
      "ADD + LAYER NORMALIZATION 2\n",
      "Mean (torch.Size([30, 200, 1]))\n",
      "Standard Deviation  (torch.Size([30, 200, 1]))\n",
      "y: torch.Size([30, 200, 512])\n",
      "self.gamma: torch.Size([512]), self.beta: torch.Size([512])\n",
      "out: torch.Size([30, 200, 512])\n",
      "FEED FORWARD 1\n",
      "x after first linear layer: torch.Size([30, 200, 2048])\n",
      "x after activation: torch.Size([30, 200, 2048])\n",
      "x after dropout: torch.Size([30, 200, 2048])\n",
      "x after 2nd linear layer: torch.Size([30, 200, 512])\n",
      "DROP OUT 3\n",
      "ADD + LAYER NORMALIZATION 3\n",
      "Mean (torch.Size([30, 200, 1]))\n",
      "Standard Deviation  (torch.Size([30, 200, 1]))\n",
      "y: torch.Size([30, 200, 512])\n",
      "self.gamma: torch.Size([512]), self.beta: torch.Size([512])\n",
      "out: torch.Size([30, 200, 512])\n",
      "MASKED SELF ATTENTION\n",
      "x.size(): torch.Size([30, 200, 512])\n",
      "qkv.size(): torch.Size([30, 200, 1536])\n",
      "qkv.size(): torch.Size([30, 200, 8, 192])\n",
      "qkv.size(): torch.Size([30, 8, 200, 192])\n",
      "q size: torch.Size([30, 8, 200, 64]), k size: torch.Size([30, 8, 200, 64]), v size: torch.Size([30, 8, 200, 64]), \n",
      "scaled.size() : torch.Size([30, 8, 200, 200])\n",
      "-- ADDING MASK of shape torch.Size([200, 200]) --\n",
      "values.size(): torch.Size([30, 8, 200, 64]), attention.size:torch.Size([30, 8, 200, 200]) \n",
      "values.size(): torch.Size([30, 200, 512])\n",
      "out.size(): torch.Size([30, 200, 512])\n",
      "DROP OUT 1\n",
      "ADD + LAYER NORMALIZATION 1\n",
      "Mean (torch.Size([30, 200, 1]))\n",
      "Standard Deviation  (torch.Size([30, 200, 1]))\n",
      "y: torch.Size([30, 200, 512])\n",
      "self.gamma: torch.Size([512]), self.beta: torch.Size([512])\n",
      "out: torch.Size([30, 200, 512])\n",
      "CROSS ATTENTION\n",
      "x.size(): torch.Size([30, 200, 512])\n",
      "kv.size(): torch.Size([30, 200, 1024])\n",
      "q.size(): torch.Size([30, 200, 512])\n",
      "scaled.size() : torch.Size([30, 8, 200, 200])\n",
      "values: torch.Size([30, 8, 200, 64]), attention:torch.Size([30, 8, 200, 200])\n",
      "out after passing through linear layer: torch.Size([30, 200, 512])\n",
      "DROP OUT 2\n",
      "ADD + LAYER NORMALIZATION 2\n",
      "Mean (torch.Size([30, 200, 1]))\n",
      "Standard Deviation  (torch.Size([30, 200, 1]))\n"
     ]
    },
    {
     "name": "stdout",
     "output_type": "stream",
     "text": [
      "y: torch.Size([30, 200, 512])\n",
      "self.gamma: torch.Size([512]), self.beta: torch.Size([512])\n",
      "out: torch.Size([30, 200, 512])\n",
      "FEED FORWARD 1\n",
      "x after first linear layer: torch.Size([30, 200, 2048])\n",
      "x after activation: torch.Size([30, 200, 2048])\n",
      "x after dropout: torch.Size([30, 200, 2048])\n",
      "x after 2nd linear layer: torch.Size([30, 200, 512])\n",
      "DROP OUT 3\n",
      "ADD + LAYER NORMALIZATION 3\n",
      "Mean (torch.Size([30, 200, 1]))\n",
      "Standard Deviation  (torch.Size([30, 200, 1]))\n",
      "y: torch.Size([30, 200, 512])\n",
      "self.gamma: torch.Size([512]), self.beta: torch.Size([512])\n",
      "out: torch.Size([30, 200, 512])\n"
     ]
    }
   ],
   "source": [
    "d_model = 512\n",
    "num_heads = 8\n",
    "drop_prob = 0.1\n",
    "batch_size = 30\n",
    "max_sequence_length = 200\n",
    "ffn_hidden = 2048\n",
    "num_layers = 5\n",
    "\n",
    "x = torch.randn( (batch_size, max_sequence_length, d_model) ) # English sentence positional encoded \n",
    "y = torch.randn( (batch_size, max_sequence_length, d_model) ) # Kannada sentence positional encoded \n",
    "mask = torch.full([max_sequence_length, max_sequence_length] , float('-inf'))\n",
    "mask = torch.triu(mask, diagonal=1)\n",
    "decoder = Decoder(d_model, ffn_hidden, num_heads, drop_prob, num_layers)\n",
    "out = decoder(x, y, mask)"
   ]
  },
  {
   "cell_type": "code",
   "execution_count": null,
   "id": "fd99b901",
   "metadata": {},
   "outputs": [],
   "source": []
  }
 ],
 "metadata": {
  "kernelspec": {
   "display_name": "Python 3 (ipykernel)",
   "language": "python",
   "name": "python3"
  },
  "language_info": {
   "codemirror_mode": {
    "name": "ipython",
    "version": 3
   },
   "file_extension": ".py",
   "mimetype": "text/x-python",
   "name": "python",
   "nbconvert_exporter": "python",
   "pygments_lexer": "ipython3",
   "version": "3.9.19"
  }
 },
 "nbformat": 4,
 "nbformat_minor": 5
}
